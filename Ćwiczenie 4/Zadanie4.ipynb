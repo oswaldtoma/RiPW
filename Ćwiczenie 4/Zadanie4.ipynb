{
 "cells": [
  {
   "cell_type": "code",
   "execution_count": 2,
   "id": "670cf64e-7890-4550-a353-084f5e71a36b",
   "metadata": {},
   "outputs": [],
   "source": [
    "from collections import defaultdict, Counter\n",
    "import itertools\n",
    "import math\n",
    "import random\n",
    "\n",
    "class BayesNet(object):\n",
    "    \"Bayesian network: a graph of variables connected by parent links.\"\n",
    "     \n",
    "    def __init__(self): \n",
    "        self.variables = [] # List of variables, in parent-first topological sort order\n",
    "        self.lookup = {}    # Mapping of {variable_name: variable} pairs\n",
    "            \n",
    "    def add(self, name, parentnames, cpt):\n",
    "        \"Add a new Variable to the BayesNet. Parentnames must have been added previously.\"\n",
    "        parents = [self.lookup[name] for name in parentnames]\n",
    "        var = Variable(name, cpt, parents)\n",
    "        self.variables.append(var)\n",
    "        self.lookup[name] = var\n",
    "        return self\n",
    "    \n",
    "class Variable(object):\n",
    "    \"A discrete random variable; conditional on zero or more parent Variables.\"\n",
    "    \n",
    "    def __init__(self, name, cpt, parents=()):\n",
    "        \"A variable has a name, list of parent variables, and a Conditional Probability Table.\"\n",
    "        self.__name__ = name\n",
    "        self.parents  = parents\n",
    "        self.cpt      = CPTable(cpt, parents)\n",
    "        self.domain   = set(itertools.chain(*self.cpt.values())) # All the outcomes in the CPT\n",
    "                \n",
    "    def __repr__(self): return self.__name__\n",
    "    \n",
    "class Factor(dict): \"An {outcome: frequency} mapping.\"\n",
    "\n",
    "class ProbDist(Factor):\n",
    "    \"\"\"A Probability Distribution is an {outcome: probability} mapping. \n",
    "    The values are normalized to sum to 1.\n",
    "    ProbDist(0.75) is an abbreviation for ProbDist({T: 0.75, F: 0.25}).\"\"\"\n",
    "    def __init__(self, mapping=(), **kwargs):\n",
    "        if isinstance(mapping, float):\n",
    "            mapping = {T: mapping, F: 1 - mapping}\n",
    "        self.update(mapping, **kwargs)\n",
    "        normalize(self)\n",
    "        \n",
    "class Evidence(dict): \n",
    "    \"A {variable: value} mapping, describing what we know for sure.\"\n",
    "        \n",
    "class CPTable(dict):\n",
    "    \"A mapping of {row: ProbDist, ...} where each row is a tuple of values of the parent variables.\"\n",
    "    \n",
    "    def __init__(self, mapping, parents=()):\n",
    "        \"\"\"Provides two shortcuts for writing a Conditional Probability Table. \n",
    "        With no parents, CPTable(dist) means CPTable({(): dist}).\n",
    "        With one parent, CPTable({val: dist,...}) means CPTable({(val,): dist,...}).\"\"\"\n",
    "        if len(parents) == 0 and not (isinstance(mapping, dict) and set(mapping.keys()) == {()}):\n",
    "            mapping = {(): mapping}\n",
    "        for (row, dist) in mapping.items():\n",
    "            if len(parents) == 1 and not isinstance(row, tuple): \n",
    "                row = (row,)\n",
    "            self[row] = ProbDist(dist)\n",
    "\n",
    "class Bool(int):\n",
    "    \"Just like `bool`, except values display as 'T' and 'F' instead of 'True' and 'False'\"\n",
    "    __str__ = __repr__ = lambda self: 'T' if self else 'F'\n",
    "        \n",
    "T = Bool(True)\n",
    "F = Bool(False)"
   ]
  },
  {
   "cell_type": "code",
   "execution_count": 3,
   "id": "acdfd6dd-e140-40bc-a36f-4588d96d22ad",
   "metadata": {},
   "outputs": [],
   "source": [
    "def P(var, evidence={}):\n",
    "    \"The probability distribution for P(variable | evidence), when all parent variables are known (in evidence).\"\n",
    "    row = tuple(evidence[parent] for parent in var.parents)\n",
    "    return var.cpt[row]\n",
    "\n",
    "def normalize(dist):\n",
    "    \"Normalize a {key: value} distribution so values sum to 1.0. Mutates dist and returns it.\"\n",
    "    total = sum(dist.values())\n",
    "    for key in dist:\n",
    "        dist[key] = dist[key] / total\n",
    "        assert 0 <= dist[key] <= 1, \"Probabilities must be between 0 and 1.\"\n",
    "    return dist\n",
    "\n",
    "def sample(probdist):\n",
    "    \"Randomly sample an outcome from a probability distribution.\"\n",
    "    r = random.random() # r is a random point in the probability distribution\n",
    "    c = 0.0             # c is the cumulative probability of outcomes seen so far\n",
    "    for outcome in probdist:\n",
    "        c += probdist[outcome]\n",
    "        if r <= c:\n",
    "            return outcome\n",
    "        \n",
    "def globalize(mapping):\n",
    "    \"Given a {name: value} mapping, export all the names to the `globals()` namespace.\"\n",
    "    globals().update(mapping)"
   ]
  },
  {
   "cell_type": "code",
   "execution_count": 4,
   "id": "f5dcf7e7-7649-4c97-a3ca-7072bd016b27",
   "metadata": {},
   "outputs": [],
   "source": [
    "def joint_distribution(net):\n",
    "    \"Given a Bayes net, create the joint distribution over all variables.\"\n",
    "    return ProbDist({row: prod(P_xi_given_parents(var, row, net)\n",
    "                               for var in net.variables)\n",
    "                     for row in all_rows(net)})\n",
    "\n",
    "def all_rows(net): return itertools.product(*[var.domain for var in net.variables])\n",
    "\n",
    "def P_xi_given_parents(var, row, net):\n",
    "    \"The probability that var = xi, given the values in this row.\"\n",
    "    dist = P(var, Evidence(zip(net.variables, row)))\n",
    "    xi = row[net.variables.index(var)]\n",
    "    return dist[xi]\n",
    "\n",
    "def prod(numbers):\n",
    "    \"The product of numbers: prod([2, 3, 5]) == 30. Analogous to `sum([2, 3, 5]) == 10`.\"\n",
    "    result = 1\n",
    "    for x in numbers:\n",
    "        result *= x\n",
    "    return result"
   ]
  },
  {
   "cell_type": "code",
   "execution_count": 5,
   "id": "aa584f3f-3daa-4162-a151-dcc85df12fde",
   "metadata": {},
   "outputs": [],
   "source": [
    "def enumeration_ask(X, evidence, net):\n",
    "    \"The probability distribution for query variable X in a belief net, given evidence.\"\n",
    "    i    = net.variables.index(X) # The index of the query variable X in the row\n",
    "    dist = defaultdict(float)     # The resulting probability distribution over X\n",
    "    for (row, p) in joint_distribution(net).items():\n",
    "        if matches_evidence(row, evidence, net):\n",
    "            dist[row[i]] += p\n",
    "    return ProbDist(dist)\n",
    "\n",
    "def matches_evidence(row, evidence, net):\n",
    "    \"Does the tuple of values for this row agree with the evidence?\"\n",
    "    return all(evidence[v] == row[net.variables.index(v)]\n",
    "               for v in evidence)"
   ]
  },
  {
   "cell_type": "code",
   "execution_count": 11,
   "id": "9159f8f9-b5dd-446f-87de-195e2104aac1",
   "metadata": {},
   "outputs": [
    {
     "data": {
      "text/plain": [
       "<__main__.BayesNet at 0x1c3b37159c0>"
      ]
     },
     "execution_count": 11,
     "metadata": {},
     "output_type": "execute_result"
    }
   ],
   "source": [
    "#stworzenie sieci Bayesa\n",
    "net = BayesNet()\n",
    "net.add('zarobki', [], {'małe': 0.5, 'umiarkowane': 0.3, 'wysokie': 0.1})\n",
    "net.add('wiek', [], {'młodociany': 0.3, 'dorosły': 0.3, 'starszy': 0.1})\n",
    "net.add(\"aktualny_dług\", [], {\"mały\": 0.5, \"średni\": 0.3, \"duży\": 0.1})\n",
    "net.add(\"kwota_kredytu\", [\"zarobki\", \"wiek\", \"aktualny_dług\"], {\n",
    "  (\"małe\", \"młodociany\", \"duży\"): 0.1,  \n",
    "  (\"małe\", \"starszy\", \"średni\"): 0.3,\n",
    "  (\"umiarkowane\", \"młodociany\", \"duży\"): 0.5,\n",
    "  (\"małe\", \"dorosły\", \"duży\"): 0.3,\n",
    "  (\"małe\", \"młodociany\", \"duży\"): 0.2,\n",
    "  (\"umiarkowane\", \"dorosły\", \"duży\"): 0.3,\n",
    "  (\"małe\", \"młodociany\", \"średni\"): 0.2,\n",
    "  (\"małe\", \"dorosły\", \"średni\"): 0.3,\n",
    "  (\"umiarkowane\", \"starszy\", \"duży\"): 0.4,\n",
    "  (\"małe\", \"młodociany\", \"duży\"): 0.5,\n",
    "  (\"umiarkowane\", \"dorosły\", \"średni\"): 0.6,\n",
    "  (\"małe\", \"młodociany\", \"średni\"): 0.7,\n",
    "  (\"małe\", \"dorosły\", \"średni\"): 0.4,\n",
    "  (\"umiarkowane\", \"młodociany\", \"średni\"): 0.3,\n",
    "  (\"umiarkowane\", \"dorosły\", \"średni\"): 0.2,\n",
    "  (\"małe\", \"młodociany\", \"duży\"): 0.2,\n",
    "  (\"małe\", \"dorosły\", \"duży\"): 0.1,\n",
    "  (\"małe\", \"starszy\", \"mały\"): 0.1,\n",
    "})"
   ]
  },
  {
   "cell_type": "code",
   "execution_count": 10,
   "id": "48cada76-760b-424c-9082-aeea43f655c1",
   "metadata": {},
   "outputs": [
    {
     "name": "stdout",
     "output_type": "stream",
     "text": [
      "Losowe prawdopodobieństwo wieku: dorosły\n",
      "Losowe prawdopodobieństwo wieku: starszy\n",
      "Losowe prawdopodobieństwo wieku: dorosły\n",
      "Losowe prawdopodobieństwo wieku: młodociany\n",
      "Rozkład probabilistyczny dla wieku: {'młodociany': 0.4285714285714286, 'dorosły': 0.4285714285714286, 'starszy': 0.14285714285714288}\n",
      "{('małe', 'młodociany', 'duży'): {T: 0.2, F: 0.8}, ('małe', 'starszy', 'średni'): {T: 0.3, F: 0.7}, ('umiarkowane', 'młodociany', 'duży'): {T: 0.5, F: 0.5}, ('małe', 'dorosły', 'duży'): {T: 0.1, F: 0.9}, ('umiarkowane', 'dorosły', 'duży'): {T: 0.3, F: 0.7}, ('małe', 'młodociany', 'średni'): {T: 0.7, F: 0.30000000000000004}, ('małe', 'dorosły', 'średni'): {T: 0.4, F: 0.6}, ('umiarkowane', 'starszy', 'duży'): {T: 0.4, F: 0.6}, ('umiarkowane', 'dorosły', 'średni'): {T: 0.2, F: 0.8}, ('umiarkowane', 'młodociany', 'średni'): {T: 0.3, F: 0.7}, ('małe', 'starszy', 'mały'): {T: 0.1, F: 0.9}}\n"
     ]
    }
   ],
   "source": [
    "globalize(net.lookup)\n",
    "print(\"Losowe prawdopodobieństwo wieku:\", sample(P(wiek)))\n",
    "print(\"Losowe prawdopodobieństwo wieku:\", sample(P(wiek)))\n",
    "print(\"Losowe prawdopodobieństwo wieku:\", sample(P(wiek)))\n",
    "print(\"Losowe prawdopodobieństwo wieku:\", sample(P(wiek)))\n",
    "print(\"Rozkład probabilistyczny dla wieku:\", P(wiek))\n",
    "print(kwota_kredytu.cpt)"
   ]
  },
  {
   "cell_type": "code",
   "execution_count": 12,
   "id": "58b704e5-ddf0-4e78-aab0-4fe6fcd690b2",
   "metadata": {},
   "outputs": [
    {
     "data": {
      "text/plain": [
       "{('małe', 'dorosły', 'duży', F),\n",
       " ('małe', 'dorosły', 'duży', T),\n",
       " ('małe', 'dorosły', 'mały', F),\n",
       " ('małe', 'dorosły', 'mały', T),\n",
       " ('małe', 'dorosły', 'średni', F),\n",
       " ('małe', 'dorosły', 'średni', T),\n",
       " ('małe', 'młodociany', 'duży', F),\n",
       " ('małe', 'młodociany', 'duży', T),\n",
       " ('małe', 'młodociany', 'mały', F),\n",
       " ('małe', 'młodociany', 'mały', T),\n",
       " ('małe', 'młodociany', 'średni', F),\n",
       " ('małe', 'młodociany', 'średni', T),\n",
       " ('małe', 'starszy', 'duży', F),\n",
       " ('małe', 'starszy', 'duży', T),\n",
       " ('małe', 'starszy', 'mały', F),\n",
       " ('małe', 'starszy', 'mały', T),\n",
       " ('małe', 'starszy', 'średni', F),\n",
       " ('małe', 'starszy', 'średni', T),\n",
       " ('umiarkowane', 'dorosły', 'duży', F),\n",
       " ('umiarkowane', 'dorosły', 'duży', T),\n",
       " ('umiarkowane', 'dorosły', 'mały', F),\n",
       " ('umiarkowane', 'dorosły', 'mały', T),\n",
       " ('umiarkowane', 'dorosły', 'średni', F),\n",
       " ('umiarkowane', 'dorosły', 'średni', T),\n",
       " ('umiarkowane', 'młodociany', 'duży', F),\n",
       " ('umiarkowane', 'młodociany', 'duży', T),\n",
       " ('umiarkowane', 'młodociany', 'mały', F),\n",
       " ('umiarkowane', 'młodociany', 'mały', T),\n",
       " ('umiarkowane', 'młodociany', 'średni', F),\n",
       " ('umiarkowane', 'młodociany', 'średni', T),\n",
       " ('umiarkowane', 'starszy', 'duży', F),\n",
       " ('umiarkowane', 'starszy', 'duży', T),\n",
       " ('umiarkowane', 'starszy', 'mały', F),\n",
       " ('umiarkowane', 'starszy', 'mały', T),\n",
       " ('umiarkowane', 'starszy', 'średni', F),\n",
       " ('umiarkowane', 'starszy', 'średni', T),\n",
       " ('wysokie', 'dorosły', 'duży', F),\n",
       " ('wysokie', 'dorosły', 'duży', T),\n",
       " ('wysokie', 'dorosły', 'mały', F),\n",
       " ('wysokie', 'dorosły', 'mały', T),\n",
       " ('wysokie', 'dorosły', 'średni', F),\n",
       " ('wysokie', 'dorosły', 'średni', T),\n",
       " ('wysokie', 'młodociany', 'duży', F),\n",
       " ('wysokie', 'młodociany', 'duży', T),\n",
       " ('wysokie', 'młodociany', 'mały', F),\n",
       " ('wysokie', 'młodociany', 'mały', T),\n",
       " ('wysokie', 'młodociany', 'średni', F),\n",
       " ('wysokie', 'młodociany', 'średni', T),\n",
       " ('wysokie', 'starszy', 'duży', F),\n",
       " ('wysokie', 'starszy', 'duży', T),\n",
       " ('wysokie', 'starszy', 'mały', F),\n",
       " ('wysokie', 'starszy', 'mały', T),\n",
       " ('wysokie', 'starszy', 'średni', F),\n",
       " ('wysokie', 'starszy', 'średni', T)}"
      ]
     },
     "execution_count": 12,
     "metadata": {},
     "output_type": "execute_result"
    }
   ],
   "source": [
    "set(all_rows(net)) #połączenie wszystkich rzędów w celu pokazania dystrybucji"
   ]
  },
  {
   "cell_type": "code",
   "execution_count": 15,
   "id": "ab78d185-b708-47fc-8d80-b81c8b5da079",
   "metadata": {},
   "outputs": [
    {
     "ename": "KeyError",
     "evalue": "zarobki",
     "output_type": "error",
     "traceback": [
      "\u001b[1;31m---------------------------------------------------------------------------\u001b[0m",
      "\u001b[1;31mKeyError\u001b[0m                                  Traceback (most recent call last)",
      "Cell \u001b[1;32mIn[15], line 1\u001b[0m\n\u001b[1;32m----> 1\u001b[0m \u001b[43mP_xi_given_parents\u001b[49m\u001b[43m(\u001b[49m\u001b[43mkwota_kredytu\u001b[49m\u001b[43m,\u001b[49m\u001b[43m \u001b[49m\u001b[43m(\u001b[49m\u001b[38;5;124;43m'\u001b[39;49m\u001b[38;5;124;43mumiarkowane\u001b[39;49m\u001b[38;5;124;43m'\u001b[39;49m\u001b[43m,\u001b[49m\u001b[43m \u001b[49m\u001b[38;5;124;43m'\u001b[39;49m\u001b[38;5;124;43mdorosły\u001b[39;49m\u001b[38;5;124;43m'\u001b[39;49m\u001b[43m,\u001b[49m\u001b[43m \u001b[49m\u001b[38;5;124;43m'\u001b[39;49m\u001b[38;5;124;43mduży\u001b[39;49m\u001b[38;5;124;43m'\u001b[39;49m\u001b[43m,\u001b[49m\u001b[43m \u001b[49m\u001b[43mF\u001b[49m\u001b[43m)\u001b[49m\u001b[43m,\u001b[49m\u001b[43m \u001b[49m\u001b[43mnet\u001b[49m\u001b[43m)\u001b[49m\n",
      "Cell \u001b[1;32mIn[4], line 11\u001b[0m, in \u001b[0;36mP_xi_given_parents\u001b[1;34m(var, row, net)\u001b[0m\n\u001b[0;32m      9\u001b[0m \u001b[38;5;28;01mdef\u001b[39;00m \u001b[38;5;21mP_xi_given_parents\u001b[39m(var, row, net):\n\u001b[0;32m     10\u001b[0m     \u001b[38;5;124m\"\u001b[39m\u001b[38;5;124mThe probability that var = xi, given the values in this row.\u001b[39m\u001b[38;5;124m\"\u001b[39m\n\u001b[1;32m---> 11\u001b[0m     dist \u001b[38;5;241m=\u001b[39m \u001b[43mP\u001b[49m\u001b[43m(\u001b[49m\u001b[43mvar\u001b[49m\u001b[43m,\u001b[49m\u001b[43m \u001b[49m\u001b[43mEvidence\u001b[49m\u001b[43m(\u001b[49m\u001b[38;5;28;43mzip\u001b[39;49m\u001b[43m(\u001b[49m\u001b[43mnet\u001b[49m\u001b[38;5;241;43m.\u001b[39;49m\u001b[43mvariables\u001b[49m\u001b[43m,\u001b[49m\u001b[43m \u001b[49m\u001b[43mrow\u001b[49m\u001b[43m)\u001b[49m\u001b[43m)\u001b[49m\u001b[43m)\u001b[49m\n\u001b[0;32m     12\u001b[0m     xi \u001b[38;5;241m=\u001b[39m row[net\u001b[38;5;241m.\u001b[39mvariables\u001b[38;5;241m.\u001b[39mindex(var)]\n\u001b[0;32m     13\u001b[0m     \u001b[38;5;28;01mreturn\u001b[39;00m dist[xi]\n",
      "Cell \u001b[1;32mIn[3], line 3\u001b[0m, in \u001b[0;36mP\u001b[1;34m(var, evidence)\u001b[0m\n\u001b[0;32m      1\u001b[0m \u001b[38;5;28;01mdef\u001b[39;00m \u001b[38;5;21mP\u001b[39m(var, evidence\u001b[38;5;241m=\u001b[39m{}):\n\u001b[0;32m      2\u001b[0m     \u001b[38;5;124m\"\u001b[39m\u001b[38;5;124mThe probability distribution for P(variable | evidence), when all parent variables are known (in evidence).\u001b[39m\u001b[38;5;124m\"\u001b[39m\n\u001b[1;32m----> 3\u001b[0m     row \u001b[38;5;241m=\u001b[39m \u001b[38;5;28;43mtuple\u001b[39;49m\u001b[43m(\u001b[49m\u001b[43mevidence\u001b[49m\u001b[43m[\u001b[49m\u001b[43mparent\u001b[49m\u001b[43m]\u001b[49m\u001b[43m \u001b[49m\u001b[38;5;28;43;01mfor\u001b[39;49;00m\u001b[43m \u001b[49m\u001b[43mparent\u001b[49m\u001b[43m \u001b[49m\u001b[38;5;129;43;01min\u001b[39;49;00m\u001b[43m \u001b[49m\u001b[43mvar\u001b[49m\u001b[38;5;241;43m.\u001b[39;49m\u001b[43mparents\u001b[49m\u001b[43m)\u001b[49m\n\u001b[0;32m      4\u001b[0m     \u001b[38;5;28;01mreturn\u001b[39;00m var\u001b[38;5;241m.\u001b[39mcpt[row]\n",
      "Cell \u001b[1;32mIn[3], line 3\u001b[0m, in \u001b[0;36m<genexpr>\u001b[1;34m(.0)\u001b[0m\n\u001b[0;32m      1\u001b[0m \u001b[38;5;28;01mdef\u001b[39;00m \u001b[38;5;21mP\u001b[39m(var, evidence\u001b[38;5;241m=\u001b[39m{}):\n\u001b[0;32m      2\u001b[0m     \u001b[38;5;124m\"\u001b[39m\u001b[38;5;124mThe probability distribution for P(variable | evidence), when all parent variables are known (in evidence).\u001b[39m\u001b[38;5;124m\"\u001b[39m\n\u001b[1;32m----> 3\u001b[0m     row \u001b[38;5;241m=\u001b[39m \u001b[38;5;28mtuple\u001b[39m(\u001b[43mevidence\u001b[49m\u001b[43m[\u001b[49m\u001b[43mparent\u001b[49m\u001b[43m]\u001b[49m \u001b[38;5;28;01mfor\u001b[39;00m parent \u001b[38;5;129;01min\u001b[39;00m var\u001b[38;5;241m.\u001b[39mparents)\n\u001b[0;32m      4\u001b[0m     \u001b[38;5;28;01mreturn\u001b[39;00m var\u001b[38;5;241m.\u001b[39mcpt[row]\n",
      "\u001b[1;31mKeyError\u001b[0m: zarobki"
     ]
    }
   ],
   "source": [
    "P_xi_given_parents(kwota_kredytu, ('umiarkowane', 'dorosły', 'duży', F), net)"
   ]
  },
  {
   "cell_type": "code",
   "execution_count": 18,
   "id": "5bc47454-ee49-47c2-b546-566be99d1c3b",
   "metadata": {},
   "outputs": [
    {
     "ename": "ValueError",
     "evalue": "kwota_kredytu is not in list",
     "output_type": "error",
     "traceback": [
      "\u001b[1;31m---------------------------------------------------------------------------\u001b[0m",
      "\u001b[1;31mValueError\u001b[0m                                Traceback (most recent call last)",
      "Cell \u001b[1;32mIn[18], line 2\u001b[0m\n\u001b[0;32m      1\u001b[0m evidence \u001b[38;5;241m=\u001b[39m {zarobki: \u001b[38;5;124m\"\u001b[39m\u001b[38;5;124mwysokie\u001b[39m\u001b[38;5;124m\"\u001b[39m, wiek: \u001b[38;5;124m\"\u001b[39m\u001b[38;5;124mdorosły\u001b[39m\u001b[38;5;124m\"\u001b[39m}\n\u001b[1;32m----> 2\u001b[0m result \u001b[38;5;241m=\u001b[39m \u001b[43menumeration_ask\u001b[49m\u001b[43m(\u001b[49m\u001b[43mkwota_kredytu\u001b[49m\u001b[43m,\u001b[49m\u001b[43m \u001b[49m\u001b[43mevidence\u001b[49m\u001b[43m,\u001b[49m\u001b[43m \u001b[49m\u001b[43mnet\u001b[49m\u001b[43m)\u001b[49m\n",
      "Cell \u001b[1;32mIn[5], line 3\u001b[0m, in \u001b[0;36menumeration_ask\u001b[1;34m(X, evidence, net)\u001b[0m\n\u001b[0;32m      1\u001b[0m \u001b[38;5;28;01mdef\u001b[39;00m \u001b[38;5;21menumeration_ask\u001b[39m(X, evidence, net):\n\u001b[0;32m      2\u001b[0m     \u001b[38;5;124m\"\u001b[39m\u001b[38;5;124mThe probability distribution for query variable X in a belief net, given evidence.\u001b[39m\u001b[38;5;124m\"\u001b[39m\n\u001b[1;32m----> 3\u001b[0m     i    \u001b[38;5;241m=\u001b[39m \u001b[43mnet\u001b[49m\u001b[38;5;241;43m.\u001b[39;49m\u001b[43mvariables\u001b[49m\u001b[38;5;241;43m.\u001b[39;49m\u001b[43mindex\u001b[49m\u001b[43m(\u001b[49m\u001b[43mX\u001b[49m\u001b[43m)\u001b[49m \u001b[38;5;66;03m# The index of the query variable X in the row\u001b[39;00m\n\u001b[0;32m      4\u001b[0m     dist \u001b[38;5;241m=\u001b[39m defaultdict(\u001b[38;5;28mfloat\u001b[39m)     \u001b[38;5;66;03m# The resulting probability distribution over X\u001b[39;00m\n\u001b[0;32m      5\u001b[0m     \u001b[38;5;28;01mfor\u001b[39;00m (row, p) \u001b[38;5;129;01min\u001b[39;00m joint_distribution(net)\u001b[38;5;241m.\u001b[39mitems():\n",
      "\u001b[1;31mValueError\u001b[0m: kwota_kredytu is not in list"
     ]
    }
   ],
   "source": [
    "evidence = {zarobki: \"wysokie\", wiek: \"dorosły\"}\n",
    "result = enumeration_ask(kwota_kredytu, evidence, net)"
   ]
  },
  {
   "cell_type": "markdown",
   "id": "23a1edf7-b59d-4d9d-b020-e41f2287d90f",
   "metadata": {},
   "source": [
    "Stworzyć własną sieć Bayesa wraz z wnioskowaniem dla zagadnienia:\n",
    "1. Decyzja o nadanie kredytu finansowego\n",
    "2. Decyzja o złożeniu ezgaminu zawierającego dwie częsci\n",
    "3. Decyzja o warunkach pogodowych odpowiednich dla gry w piłkę nożną\n",
    "4. Decyzja o diagnozie choroby na podstawie danych ECG i USG\n",
    "5. Decyzja o nadanie kredytu finansowego\n",
    "6. Decyzja o złożeniu ezgaminu zawierającego dwie częsci\n",
    "7. Decyzja o warunkach pogodowych odpowiednich dla gry w piłkę nożną\n",
    "8. Decyzja o diagnozie choroby na podstawie danych ECG i USG\n",
    "9. Decyzja o nadanie kredytu finansowego\n",
    "10. Decyzja o złożeniu ezgaminu zawierającego dwie częsci\n",
    "11. Decyzja o warunkach pogodowych odpowiednich dla gry w piłkę nożną\n",
    "12. Decyzja o diagnozie choroby na podstawie danych ECG i USG\n"
   ]
  }
 ],
 "metadata": {
  "kernelspec": {
   "display_name": "Python 3 (ipykernel)",
   "language": "python",
   "name": "python3"
  },
  "language_info": {
   "codemirror_mode": {
    "name": "ipython",
    "version": 3
   },
   "file_extension": ".py",
   "mimetype": "text/x-python",
   "name": "python",
   "nbconvert_exporter": "python",
   "pygments_lexer": "ipython3",
   "version": "3.10.9"
  }
 },
 "nbformat": 4,
 "nbformat_minor": 5
}
