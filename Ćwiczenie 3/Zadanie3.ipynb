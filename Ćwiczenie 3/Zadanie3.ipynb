{
 "cells": [
  {
   "cell_type": "code",
   "execution_count": 1,
   "metadata": {},
   "outputs": [
    {
     "name": "stdout",
     "output_type": "stream",
     "text": [
      "Requirement already satisfied: ipython in d:\\anaconda\\lib\\site-packages (8.10.0)\n",
      "Requirement already satisfied: prompt-toolkit<3.1.0,>=3.0.30 in d:\\anaconda\\lib\\site-packages (from ipython) (3.0.36)\n",
      "Requirement already satisfied: pickleshare in d:\\anaconda\\lib\\site-packages (from ipython) (0.7.5)\n",
      "Requirement already satisfied: traitlets>=5 in d:\\anaconda\\lib\\site-packages (from ipython) (5.7.1)\n",
      "Requirement already satisfied: matplotlib-inline in d:\\anaconda\\lib\\site-packages (from ipython) (0.1.6)\n",
      "Requirement already satisfied: pygments>=2.4.0 in d:\\anaconda\\lib\\site-packages (from ipython) (2.11.2)\n",
      "Requirement already satisfied: colorama in d:\\anaconda\\lib\\site-packages (from ipython) (0.4.6)\n",
      "Requirement already satisfied: stack-data in d:\\anaconda\\lib\\site-packages (from ipython) (0.2.0)\n",
      "Requirement already satisfied: backcall in d:\\anaconda\\lib\\site-packages (from ipython) (0.2.0)\n",
      "Requirement already satisfied: jedi>=0.16 in d:\\anaconda\\lib\\site-packages (from ipython) (0.18.1)\n",
      "Requirement already satisfied: decorator in d:\\anaconda\\lib\\site-packages (from ipython) (5.1.1)\n",
      "Requirement already satisfied: parso<0.9.0,>=0.8.0 in d:\\anaconda\\lib\\site-packages (from jedi>=0.16->ipython) (0.8.3)\n",
      "Requirement already satisfied: wcwidth in d:\\anaconda\\lib\\site-packages (from prompt-toolkit<3.1.0,>=3.0.30->ipython) (0.2.5)\n",
      "Requirement already satisfied: pure-eval in d:\\anaconda\\lib\\site-packages (from stack-data->ipython) (0.2.2)\n",
      "Requirement already satisfied: asttokens in d:\\anaconda\\lib\\site-packages (from stack-data->ipython) (2.0.5)\n",
      "Requirement already satisfied: executing in d:\\anaconda\\lib\\site-packages (from stack-data->ipython) (0.8.3)\n",
      "Requirement already satisfied: six in d:\\anaconda\\lib\\site-packages (from asttokens->stack-data->ipython) (1.16.0)\n"
     ]
    }
   ],
   "source": [
    "! pip install ipython"
   ]
  },
  {
   "cell_type": "code",
   "execution_count": 2,
   "metadata": {},
   "outputs": [
    {
     "name": "stdout",
     "output_type": "stream",
     "text": [
      "Collecting ipythonblocks\n",
      "  Using cached ipythonblocks-1.9.0-py2.py3-none-any.whl (13 kB)\n",
      "Requirement already satisfied: requests>=1.0 in d:\\anaconda\\lib\\site-packages (from ipythonblocks) (2.28.1)\n",
      "Requirement already satisfied: notebook>=4.0 in d:\\anaconda\\lib\\site-packages (from ipythonblocks) (6.5.2)\n",
      "Requirement already satisfied: ipython>=4.0 in d:\\anaconda\\lib\\site-packages (from ipythonblocks) (8.10.0)\n",
      "Requirement already satisfied: matplotlib-inline in d:\\anaconda\\lib\\site-packages (from ipython>=4.0->ipythonblocks) (0.1.6)\n",
      "Requirement already satisfied: colorama in d:\\anaconda\\lib\\site-packages (from ipython>=4.0->ipythonblocks) (0.4.6)\n",
      "Requirement already satisfied: jedi>=0.16 in d:\\anaconda\\lib\\site-packages (from ipython>=4.0->ipythonblocks) (0.18.1)\n",
      "Requirement already satisfied: prompt-toolkit<3.1.0,>=3.0.30 in d:\\anaconda\\lib\\site-packages (from ipython>=4.0->ipythonblocks) (3.0.36)\n",
      "Requirement already satisfied: backcall in d:\\anaconda\\lib\\site-packages (from ipython>=4.0->ipythonblocks) (0.2.0)\n",
      "Requirement already satisfied: stack-data in d:\\anaconda\\lib\\site-packages (from ipython>=4.0->ipythonblocks) (0.2.0)\n",
      "Requirement already satisfied: pickleshare in d:\\anaconda\\lib\\site-packages (from ipython>=4.0->ipythonblocks) (0.7.5)\n",
      "Requirement already satisfied: pygments>=2.4.0 in d:\\anaconda\\lib\\site-packages (from ipython>=4.0->ipythonblocks) (2.11.2)\n",
      "Requirement already satisfied: traitlets>=5 in d:\\anaconda\\lib\\site-packages (from ipython>=4.0->ipythonblocks) (5.7.1)\n",
      "Requirement already satisfied: decorator in d:\\anaconda\\lib\\site-packages (from ipython>=4.0->ipythonblocks) (5.1.1)\n",
      "Requirement already satisfied: nbclassic>=0.4.7 in d:\\anaconda\\lib\\site-packages (from notebook>=4.0->ipythonblocks) (0.5.2)\n",
      "Requirement already satisfied: jupyter-client>=5.3.4 in d:\\anaconda\\lib\\site-packages (from notebook>=4.0->ipythonblocks) (8.1.0)\n",
      "Requirement already satisfied: ipykernel in d:\\anaconda\\lib\\site-packages (from notebook>=4.0->ipythonblocks) (6.19.2)\n",
      "Requirement already satisfied: Send2Trash>=1.8.0 in d:\\anaconda\\lib\\site-packages (from notebook>=4.0->ipythonblocks) (1.8.0)\n",
      "Requirement already satisfied: argon2-cffi in d:\\anaconda\\lib\\site-packages (from notebook>=4.0->ipythonblocks) (21.3.0)\n",
      "Requirement already satisfied: nbformat in d:\\anaconda\\lib\\site-packages (from notebook>=4.0->ipythonblocks) (5.7.0)\n",
      "Requirement already satisfied: pyzmq>=17 in d:\\anaconda\\lib\\site-packages (from notebook>=4.0->ipythonblocks) (23.2.0)\n",
      "Requirement already satisfied: ipython-genutils in d:\\anaconda\\lib\\site-packages (from notebook>=4.0->ipythonblocks) (0.2.0)\n",
      "Requirement already satisfied: jupyter-core>=4.6.1 in d:\\anaconda\\lib\\site-packages (from notebook>=4.0->ipythonblocks) (5.2.0)\n",
      "Requirement already satisfied: nbconvert>=5 in d:\\anaconda\\lib\\site-packages (from notebook>=4.0->ipythonblocks) (6.5.4)\n",
      "Requirement already satisfied: nest-asyncio>=1.5 in d:\\anaconda\\lib\\site-packages (from notebook>=4.0->ipythonblocks) (1.5.6)\n",
      "Requirement already satisfied: prometheus-client in d:\\anaconda\\lib\\site-packages (from notebook>=4.0->ipythonblocks) (0.14.1)\n",
      "Requirement already satisfied: jinja2 in d:\\anaconda\\lib\\site-packages (from notebook>=4.0->ipythonblocks) (3.1.2)\n",
      "Requirement already satisfied: tornado>=6.1 in d:\\anaconda\\lib\\site-packages (from notebook>=4.0->ipythonblocks) (6.2)\n",
      "Requirement already satisfied: terminado>=0.8.3 in d:\\anaconda\\lib\\site-packages (from notebook>=4.0->ipythonblocks) (0.17.1)\n",
      "Requirement already satisfied: urllib3<1.27,>=1.21.1 in d:\\anaconda\\lib\\site-packages (from requests>=1.0->ipythonblocks) (1.26.14)\n",
      "Requirement already satisfied: charset-normalizer<3,>=2 in d:\\anaconda\\lib\\site-packages (from requests>=1.0->ipythonblocks) (2.0.4)\n",
      "Requirement already satisfied: certifi>=2017.4.17 in d:\\anaconda\\lib\\site-packages (from requests>=1.0->ipythonblocks) (2022.12.7)\n",
      "Requirement already satisfied: idna<4,>=2.5 in d:\\anaconda\\lib\\site-packages (from requests>=1.0->ipythonblocks) (3.4)\n",
      "Requirement already satisfied: parso<0.9.0,>=0.8.0 in d:\\anaconda\\lib\\site-packages (from jedi>=0.16->ipython>=4.0->ipythonblocks) (0.8.3)\n",
      "Requirement already satisfied: python-dateutil>=2.8.2 in d:\\anaconda\\lib\\site-packages (from jupyter-client>=5.3.4->notebook>=4.0->ipythonblocks) (2.8.2)\n",
      "Requirement already satisfied: importlib-metadata>=4.8.3 in d:\\anaconda\\lib\\site-packages (from jupyter-client>=5.3.4->notebook>=4.0->ipythonblocks) (4.11.3)\n",
      "Requirement already satisfied: pywin32>=1.0 in d:\\anaconda\\lib\\site-packages (from jupyter-core>=4.6.1->notebook>=4.0->ipythonblocks) (305.1)\n",
      "Requirement already satisfied: platformdirs>=2.5 in d:\\anaconda\\lib\\site-packages (from jupyter-core>=4.6.1->notebook>=4.0->ipythonblocks) (2.5.2)\n",
      "Requirement already satisfied: jupyter-server>=1.8 in d:\\anaconda\\lib\\site-packages (from nbclassic>=0.4.7->notebook>=4.0->ipythonblocks) (1.23.4)\n",
      "Requirement already satisfied: notebook-shim>=0.1.0 in d:\\anaconda\\lib\\site-packages (from nbclassic>=0.4.7->notebook>=4.0->ipythonblocks) (0.2.2)\n",
      "Requirement already satisfied: entrypoints>=0.2.2 in d:\\anaconda\\lib\\site-packages (from nbconvert>=5->notebook>=4.0->ipythonblocks) (0.4)\n",
      "Requirement already satisfied: mistune<2,>=0.8.1 in d:\\anaconda\\lib\\site-packages (from nbconvert>=5->notebook>=4.0->ipythonblocks) (0.8.4)\n",
      "Requirement already satisfied: lxml in d:\\anaconda\\lib\\site-packages (from nbconvert>=5->notebook>=4.0->ipythonblocks) (4.9.1)\n",
      "Requirement already satisfied: beautifulsoup4 in d:\\anaconda\\lib\\site-packages (from nbconvert>=5->notebook>=4.0->ipythonblocks) (4.11.1)\n",
      "Requirement already satisfied: defusedxml in d:\\anaconda\\lib\\site-packages (from nbconvert>=5->notebook>=4.0->ipythonblocks) (0.7.1)\n",
      "Requirement already satisfied: pandocfilters>=1.4.1 in d:\\anaconda\\lib\\site-packages (from nbconvert>=5->notebook>=4.0->ipythonblocks) (1.5.0)\n",
      "Requirement already satisfied: bleach in d:\\anaconda\\lib\\site-packages (from nbconvert>=5->notebook>=4.0->ipythonblocks) (4.1.0)\n",
      "Requirement already satisfied: packaging in d:\\anaconda\\lib\\site-packages (from nbconvert>=5->notebook>=4.0->ipythonblocks) (22.0)\n",
      "Requirement already satisfied: tinycss2 in d:\\anaconda\\lib\\site-packages (from nbconvert>=5->notebook>=4.0->ipythonblocks) (1.2.1)\n",
      "Requirement already satisfied: jupyterlab-pygments in d:\\anaconda\\lib\\site-packages (from nbconvert>=5->notebook>=4.0->ipythonblocks) (0.1.2)\n",
      "Requirement already satisfied: nbclient>=0.5.0 in d:\\anaconda\\lib\\site-packages (from nbconvert>=5->notebook>=4.0->ipythonblocks) (0.5.13)\n",
      "Requirement already satisfied: MarkupSafe>=2.0 in d:\\anaconda\\lib\\site-packages (from nbconvert>=5->notebook>=4.0->ipythonblocks) (2.1.1)\n",
      "Requirement already satisfied: jsonschema>=2.6 in d:\\anaconda\\lib\\site-packages (from nbformat->notebook>=4.0->ipythonblocks) (4.17.3)\n",
      "Requirement already satisfied: fastjsonschema in d:\\anaconda\\lib\\site-packages (from nbformat->notebook>=4.0->ipythonblocks) (2.16.2)\n",
      "Requirement already satisfied: wcwidth in d:\\anaconda\\lib\\site-packages (from prompt-toolkit<3.1.0,>=3.0.30->ipython>=4.0->ipythonblocks) (0.2.5)\n",
      "Requirement already satisfied: pywinpty>=1.1.0 in d:\\anaconda\\lib\\site-packages (from terminado>=0.8.3->notebook>=4.0->ipythonblocks) (2.0.10)\n",
      "Requirement already satisfied: argon2-cffi-bindings in d:\\anaconda\\lib\\site-packages (from argon2-cffi->notebook>=4.0->ipythonblocks) (21.2.0)\n",
      "Requirement already satisfied: comm>=0.1.1 in d:\\anaconda\\lib\\site-packages (from ipykernel->notebook>=4.0->ipythonblocks) (0.1.2)\n",
      "Requirement already satisfied: debugpy>=1.0 in d:\\anaconda\\lib\\site-packages (from ipykernel->notebook>=4.0->ipythonblocks) (1.5.1)\n",
      "Requirement already satisfied: psutil in d:\\anaconda\\lib\\site-packages (from ipykernel->notebook>=4.0->ipythonblocks) (5.9.0)\n",
      "Requirement already satisfied: asttokens in d:\\anaconda\\lib\\site-packages (from stack-data->ipython>=4.0->ipythonblocks) (2.0.5)\n",
      "Requirement already satisfied: executing in d:\\anaconda\\lib\\site-packages (from stack-data->ipython>=4.0->ipythonblocks) (0.8.3)\n",
      "Requirement already satisfied: pure-eval in d:\\anaconda\\lib\\site-packages (from stack-data->ipython>=4.0->ipythonblocks) (0.2.2)\n",
      "Requirement already satisfied: zipp>=0.5 in d:\\anaconda\\lib\\site-packages (from importlib-metadata>=4.8.3->jupyter-client>=5.3.4->notebook>=4.0->ipythonblocks) (3.11.0)\n",
      "Requirement already satisfied: pyrsistent!=0.17.0,!=0.17.1,!=0.17.2,>=0.14.0 in d:\\anaconda\\lib\\site-packages (from jsonschema>=2.6->nbformat->notebook>=4.0->ipythonblocks) (0.18.0)\n",
      "Requirement already satisfied: attrs>=17.4.0 in d:\\anaconda\\lib\\site-packages (from jsonschema>=2.6->nbformat->notebook>=4.0->ipythonblocks) (22.1.0)\n",
      "Requirement already satisfied: websocket-client in d:\\anaconda\\lib\\site-packages (from jupyter-server>=1.8->nbclassic>=0.4.7->notebook>=4.0->ipythonblocks) (0.58.0)\n",
      "Requirement already satisfied: anyio<4,>=3.1.0 in d:\\anaconda\\lib\\site-packages (from jupyter-server>=1.8->nbclassic>=0.4.7->notebook>=4.0->ipythonblocks) (3.5.0)\n",
      "Requirement already satisfied: six>=1.5 in d:\\anaconda\\lib\\site-packages (from python-dateutil>=2.8.2->jupyter-client>=5.3.4->notebook>=4.0->ipythonblocks) (1.16.0)\n",
      "Requirement already satisfied: cffi>=1.0.1 in d:\\anaconda\\lib\\site-packages (from argon2-cffi-bindings->argon2-cffi->notebook>=4.0->ipythonblocks) (1.15.1)\n",
      "Requirement already satisfied: soupsieve>1.2 in d:\\anaconda\\lib\\site-packages (from beautifulsoup4->nbconvert>=5->notebook>=4.0->ipythonblocks) (2.3.2.post1)\n",
      "Requirement already satisfied: webencodings in d:\\anaconda\\lib\\site-packages (from bleach->nbconvert>=5->notebook>=4.0->ipythonblocks) (0.5.1)\n",
      "Requirement already satisfied: sniffio>=1.1 in d:\\anaconda\\lib\\site-packages (from anyio<4,>=3.1.0->jupyter-server>=1.8->nbclassic>=0.4.7->notebook>=4.0->ipythonblocks) (1.2.0)\n",
      "Requirement already satisfied: pycparser in d:\\anaconda\\lib\\site-packages (from cffi>=1.0.1->argon2-cffi-bindings->argon2-cffi->notebook>=4.0->ipythonblocks) (2.21)\n",
      "Installing collected packages: ipythonblocks\n",
      "Successfully installed ipythonblocks-1.9.0\n"
     ]
    }
   ],
   "source": [
    "! pip install ipythonblocks"
   ]
  },
  {
   "cell_type": "code",
   "execution_count": 3,
   "metadata": {},
   "outputs": [
    {
     "name": "stdout",
     "output_type": "stream",
     "text": [
      "Collecting qpsolvers\n",
      "  Downloading qpsolvers-3.3.1-py3-none-any.whl (75 kB)\n",
      "     ---------------------------------------- 75.6/75.6 kB 4.1 MB/s eta 0:00:00\n",
      "Collecting daqp>=0.5.1\n",
      "  Downloading daqp-0.5.1-cp39-cp39-win_amd64.whl (83 kB)\n",
      "     ---------------------------------------- 83.1/83.1 kB ? eta 0:00:00\n",
      "Collecting osqp>=0.6.2\n",
      "  Downloading osqp-0.6.2.post9-cp39-cp39-win_amd64.whl (292 kB)\n",
      "     -------------------------------------- 292.7/292.7 kB 9.1 MB/s eta 0:00:00\n",
      "Requirement already satisfied: numpy>=1.15.4 in d:\\anaconda\\lib\\site-packages (from qpsolvers) (1.23.5)\n",
      "Requirement already satisfied: scipy>=1.2.0 in d:\\anaconda\\lib\\site-packages (from qpsolvers) (1.10.0)\n",
      "Collecting ecos>=2.0.8\n",
      "  Downloading ecos-2.0.12-cp39-cp39-win_amd64.whl (72 kB)\n",
      "     ---------------------------------------- 72.0/72.0 kB 3.9 MB/s eta 0:00:00\n",
      "Collecting scs>=3.2.0\n",
      "  Downloading scs-3.2.3-cp39-cp39-win_amd64.whl (8.2 MB)\n",
      "     ---------------------------------------- 8.2/8.2 MB 10.3 MB/s eta 0:00:00\n",
      "Collecting qdldl\n",
      "  Downloading qdldl-0.1.7-cp39-cp39-win_amd64.whl (83 kB)\n",
      "     ---------------------------------------- 83.2/83.2 kB 4.9 MB/s eta 0:00:00\n",
      "Installing collected packages: daqp, scs, qdldl, ecos, osqp, qpsolvers\n",
      "Successfully installed daqp-0.5.1 ecos-2.0.12 osqp-0.6.2.post9 qdldl-0.1.7 qpsolvers-3.3.1 scs-3.2.3\n"
     ]
    }
   ],
   "source": [
    "! pip install qpsolvers"
   ]
  },
  {
   "cell_type": "code",
   "execution_count": 4,
   "metadata": {},
   "outputs": [
    {
     "name": "stdout",
     "output_type": "stream",
     "text": [
      "Requirement already satisfied: utils in d:\\anaconda\\lib\\site-packages (1.0.1)\n"
     ]
    }
   ],
   "source": [
    "! pip install utils"
   ]
  },
  {
   "cell_type": "code",
   "execution_count": 5,
   "metadata": {},
   "outputs": [
    {
     "name": "stdout",
     "output_type": "stream",
     "text": [
      "Requirement already satisfied: logic in d:\\anaconda\\lib\\site-packages (0.2.3)\n",
      "Requirement already satisfied: toolz in d:\\anaconda\\lib\\site-packages (from logic) (0.12.0)\n",
      "Requirement already satisfied: unification in d:\\anaconda\\lib\\site-packages (from logic) (0.2.2)\n",
      "Requirement already satisfied: multipledispatch in d:\\anaconda\\lib\\site-packages (from logic) (0.6.0)\n",
      "Requirement already satisfied: six in d:\\anaconda\\lib\\site-packages (from multipledispatch->logic) (1.16.0)\n"
     ]
    }
   ],
   "source": [
    "! pip install logic"
   ]
  },
  {
   "cell_type": "code",
   "execution_count": 6,
   "metadata": {},
   "outputs": [
    {
     "name": "stdout",
     "output_type": "stream",
     "text": [
      "Requirement already satisfied: logic-py in d:\\anaconda\\lib\\site-packages (0.4.3)\n",
      "Requirement already satisfied: numpy<2.0,>=1.0 in d:\\anaconda\\lib\\site-packages (from logic-py) (1.23.5)\n"
     ]
    }
   ],
   "source": [
    "! pip install logic-py"
   ]
  },
  {
   "cell_type": "code",
   "execution_count": 1,
   "metadata": {},
   "outputs": [],
   "source": [
    "%load_ext autoreload\n"
   ]
  },
  {
   "cell_type": "code",
   "execution_count": 2,
   "metadata": {},
   "outputs": [],
   "source": [
    "%autoreload 2\n"
   ]
  },
  {
   "cell_type": "code",
   "execution_count": 7,
   "metadata": {},
   "outputs": [
    {
     "name": "stderr",
     "output_type": "stream",
     "text": [
      "ERROR: Could not find a version that satisfies the requirement nbinspect (from versions: none)\n",
      "ERROR: No matching distribution found for nbinspect\n"
     ]
    }
   ],
   "source": [
    "! pip install nbinspect\n"
   ]
  },
  {
   "cell_type": "code",
   "execution_count": 11,
   "metadata": {},
   "outputs": [
    {
     "name": "stdout",
     "output_type": "stream",
     "text": [
      "Requirement already satisfied: logic in d:\\anaconda\\lib\\site-packages (0.2.3)\n",
      "Requirement already satisfied: toolz in d:\\anaconda\\lib\\site-packages (from logic) (0.12.0)\n",
      "Requirement already satisfied: unification in d:\\anaconda\\lib\\site-packages (from logic) (0.2.2)\n",
      "Requirement already satisfied: multipledispatch in d:\\anaconda\\lib\\site-packages (from logic) (0.6.0)\n",
      "Requirement already satisfied: six in d:\\anaconda\\lib\\site-packages (from multipledispatch->logic) (1.16.0)\n"
     ]
    }
   ],
   "source": [
    "!pip install logic"
   ]
  },
  {
   "cell_type": "code",
   "execution_count": 60,
   "metadata": {},
   "outputs": [],
   "source": [
    "import sympy as sp\n",
    "\n",
    "sp.Symbol('x')\n",
    "(x, y, P, Q, f) = sp.symbols('x, y, P, Q, f')"
   ]
  },
  {
   "cell_type": "code",
   "execution_count": 61,
   "metadata": {},
   "outputs": [
    {
     "data": {
      "text/latex": [
       "$\\displaystyle P \\vee Q$"
      ],
      "text/plain": [
       "P | Q"
      ]
     },
     "execution_count": 61,
     "metadata": {},
     "output_type": "execute_result"
    }
   ],
   "source": [
    "P | Q"
   ]
  },
  {
   "cell_type": "code",
   "execution_count": 62,
   "metadata": {},
   "outputs": [
    {
     "name": "stdout",
     "output_type": "stream",
     "text": [
      "The operator is | (or)\n"
     ]
    }
   ],
   "source": [
    "import sympy as sp\n",
    "P, Q = sp.symbols('P Q')\n",
    "sentence = sp.Or(P, Q)\n",
    "\n",
    "if type(sentence) is sp.Or:\n",
    "    operator = \"| (or)\"\n",
    "elif type(sentence) is sp.And:\n",
    "    operator = \"& (and)\"\n",
    "else:\n",
    "    operator = \"unknown\"\n",
    "\n",
    "print(f\"The operator is {operator}\")"
   ]
  },
  {
   "cell_type": "code",
   "execution_count": 63,
   "metadata": {},
   "outputs": [
    {
     "data": {
      "text/plain": [
       "(P, Q)"
      ]
     },
     "execution_count": 63,
     "metadata": {},
     "output_type": "execute_result"
    }
   ],
   "source": [
    "sentence.args"
   ]
  },
  {
   "cell_type": "code",
   "execution_count": 11,
   "metadata": {},
   "outputs": [
    {
     "data": {
      "text/plain": [
       "(x, y)"
      ]
     },
     "execution_count": 11,
     "metadata": {},
     "output_type": "execute_result"
    }
   ],
   "source": [
    "Pxy[0], Pxy[1]"
   ]
  },
  {
   "cell_type": "code",
   "execution_count": 65,
   "metadata": {},
   "outputs": [
    {
     "name": "stdout",
     "output_type": "stream",
     "text": [
      "P(y) + 2*f(x, y) + 10\n"
     ]
    }
   ],
   "source": [
    "x, y = sp.symbols('x y')\n",
    "f = sp.Function('f')(x, y)\n",
    "P = sp.Function('P')(y)\n",
    "\n",
    "expr = 2 * f + P + 3 + 7\n",
    "print(expr)"
   ]
  },
  {
   "cell_type": "code",
   "execution_count": 66,
   "metadata": {},
   "outputs": [
    {
     "data": {
      "text/latex": [
       "$\\displaystyle \\left(\\neg P \\wedge \\neg Q\\right) \\Rightarrow \\neg \\left(P \\vee Q\\right)$"
      ],
      "text/plain": [
       "Implies(~P & ~Q, ~(P | Q))"
      ]
     },
     "execution_count": 66,
     "metadata": {},
     "output_type": "execute_result"
    }
   ],
   "source": [
    "P, Q = sp.symbols('P Q')\n",
    "sp.Implies(~P & ~Q, ~(P | Q))"
   ]
  },
  {
   "cell_type": "code",
   "execution_count": 69,
   "metadata": {},
   "outputs": [
    {
     "name": "stdout",
     "output_type": "stream",
     "text": [
      "sqrt(-4*a + b/c + 9)\n"
     ]
    }
   ],
   "source": [
    "a, b, c = sp.symbols('a b c')\n",
    "expr = sp.sqrt(9 - 4 * a + b / c)\n",
    "print(expr)"
   ]
  },
  {
   "cell_type": "code",
   "execution_count": 71,
   "metadata": {},
   "outputs": [
    {
     "data": {
      "text/latex": [
       "$\\displaystyle \\sqrt{6}$"
      ],
      "text/plain": [
       "sqrt(6)"
      ]
     },
     "execution_count": 71,
     "metadata": {},
     "output_type": "execute_result"
    }
   ],
   "source": [
    "expr.subs({a: 1, b: 1, c: 1})"
   ]
  },
  {
   "cell_type": "code",
   "execution_count": 18,
   "metadata": {},
   "outputs": [
    {
     "name": "stdout",
     "output_type": "stream",
     "text": [
      "Requirement already satisfied: aima in d:\\anaconda\\lib\\site-packages (2023.2.6)\n",
      "Requirement already satisfied: ipythonblocks<2.0,>=1.9 in d:\\anaconda\\lib\\site-packages (from aima) (1.9.0)\n",
      "Requirement already satisfied: pandas<2.0,>=1.5 in d:\\anaconda\\lib\\site-packages (from aima) (1.5.3)\n",
      "Requirement already satisfied: jupyter<2.0,>=1.0 in d:\\anaconda\\lib\\site-packages (from aima) (1.0.0)\n",
      "Requirement already satisfied: ipython>=4.0 in d:\\anaconda\\lib\\site-packages (from ipythonblocks<2.0,>=1.9->aima) (8.10.0)\n",
      "Requirement already satisfied: notebook>=4.0 in d:\\anaconda\\lib\\site-packages (from ipythonblocks<2.0,>=1.9->aima) (6.5.2)\n",
      "Requirement already satisfied: requests>=1.0 in d:\\anaconda\\lib\\site-packages (from ipythonblocks<2.0,>=1.9->aima) (2.28.1)\n",
      "Requirement already satisfied: nbconvert in d:\\anaconda\\lib\\site-packages (from jupyter<2.0,>=1.0->aima) (6.5.4)\n",
      "Requirement already satisfied: ipykernel in d:\\anaconda\\lib\\site-packages (from jupyter<2.0,>=1.0->aima) (6.19.2)\n",
      "Requirement already satisfied: jupyter-console in d:\\anaconda\\lib\\site-packages (from jupyter<2.0,>=1.0->aima) (6.6.2)\n",
      "Requirement already satisfied: ipywidgets in d:\\anaconda\\lib\\site-packages (from jupyter<2.0,>=1.0->aima) (7.6.5)\n",
      "Requirement already satisfied: qtconsole in d:\\anaconda\\lib\\site-packages (from jupyter<2.0,>=1.0->aima) (5.4.0)\n",
      "Requirement already satisfied: python-dateutil>=2.8.1 in d:\\anaconda\\lib\\site-packages (from pandas<2.0,>=1.5->aima) (2.8.2)\n",
      "Requirement already satisfied: pytz>=2020.1 in d:\\anaconda\\lib\\site-packages (from pandas<2.0,>=1.5->aima) (2022.7)\n",
      "Requirement already satisfied: numpy>=1.20.3 in d:\\anaconda\\lib\\site-packages (from pandas<2.0,>=1.5->aima) (1.23.5)\n",
      "Requirement already satisfied: jedi>=0.16 in d:\\anaconda\\lib\\site-packages (from ipython>=4.0->ipythonblocks<2.0,>=1.9->aima) (0.18.1)\n",
      "Requirement already satisfied: colorama in d:\\anaconda\\lib\\site-packages (from ipython>=4.0->ipythonblocks<2.0,>=1.9->aima) (0.4.6)\n",
      "Requirement already satisfied: pickleshare in d:\\anaconda\\lib\\site-packages (from ipython>=4.0->ipythonblocks<2.0,>=1.9->aima) (0.7.5)\n",
      "Requirement already satisfied: decorator in d:\\anaconda\\lib\\site-packages (from ipython>=4.0->ipythonblocks<2.0,>=1.9->aima) (5.1.1)\n",
      "Requirement already satisfied: backcall in d:\\anaconda\\lib\\site-packages (from ipython>=4.0->ipythonblocks<2.0,>=1.9->aima) (0.2.0)\n",
      "Requirement already satisfied: prompt-toolkit<3.1.0,>=3.0.30 in d:\\anaconda\\lib\\site-packages (from ipython>=4.0->ipythonblocks<2.0,>=1.9->aima) (3.0.36)\n",
      "Requirement already satisfied: matplotlib-inline in d:\\anaconda\\lib\\site-packages (from ipython>=4.0->ipythonblocks<2.0,>=1.9->aima) (0.1.6)\n",
      "Requirement already satisfied: traitlets>=5 in d:\\anaconda\\lib\\site-packages (from ipython>=4.0->ipythonblocks<2.0,>=1.9->aima) (5.7.1)\n",
      "Requirement already satisfied: pygments>=2.4.0 in d:\\anaconda\\lib\\site-packages (from ipython>=4.0->ipythonblocks<2.0,>=1.9->aima) (2.11.2)\n",
      "Requirement already satisfied: stack-data in d:\\anaconda\\lib\\site-packages (from ipython>=4.0->ipythonblocks<2.0,>=1.9->aima) (0.2.0)\n",
      "Requirement already satisfied: nest-asyncio>=1.5 in d:\\anaconda\\lib\\site-packages (from notebook>=4.0->ipythonblocks<2.0,>=1.9->aima) (1.5.6)\n",
      "Requirement already satisfied: nbformat in d:\\anaconda\\lib\\site-packages (from notebook>=4.0->ipythonblocks<2.0,>=1.9->aima) (5.7.0)\n",
      "Requirement already satisfied: prometheus-client in d:\\anaconda\\lib\\site-packages (from notebook>=4.0->ipythonblocks<2.0,>=1.9->aima) (0.14.1)\n",
      "Requirement already satisfied: pyzmq>=17 in d:\\anaconda\\lib\\site-packages (from notebook>=4.0->ipythonblocks<2.0,>=1.9->aima) (23.2.0)\n",
      "Requirement already satisfied: nbclassic>=0.4.7 in d:\\anaconda\\lib\\site-packages (from notebook>=4.0->ipythonblocks<2.0,>=1.9->aima) (0.5.2)\n",
      "Requirement already satisfied: jupyter-core>=4.6.1 in d:\\anaconda\\lib\\site-packages (from notebook>=4.0->ipythonblocks<2.0,>=1.9->aima) (5.2.0)\n",
      "Requirement already satisfied: Send2Trash>=1.8.0 in d:\\anaconda\\lib\\site-packages (from notebook>=4.0->ipythonblocks<2.0,>=1.9->aima) (1.8.0)\n",
      "Requirement already satisfied: jupyter-client>=5.3.4 in d:\\anaconda\\lib\\site-packages (from notebook>=4.0->ipythonblocks<2.0,>=1.9->aima) (8.2.0)\n",
      "Requirement already satisfied: argon2-cffi in d:\\anaconda\\lib\\site-packages (from notebook>=4.0->ipythonblocks<2.0,>=1.9->aima) (21.3.0)\n",
      "Requirement already satisfied: tornado>=6.1 in d:\\anaconda\\lib\\site-packages (from notebook>=4.0->ipythonblocks<2.0,>=1.9->aima) (6.2)\n",
      "Requirement already satisfied: jinja2 in d:\\anaconda\\lib\\site-packages (from notebook>=4.0->ipythonblocks<2.0,>=1.9->aima) (3.1.2)\n",
      "Requirement already satisfied: terminado>=0.8.3 in d:\\anaconda\\lib\\site-packages (from notebook>=4.0->ipythonblocks<2.0,>=1.9->aima) (0.17.1)\n",
      "Requirement already satisfied: ipython-genutils in d:\\anaconda\\lib\\site-packages (from notebook>=4.0->ipythonblocks<2.0,>=1.9->aima) (0.2.0)\n",
      "Requirement already satisfied: lxml in d:\\anaconda\\lib\\site-packages (from nbconvert->jupyter<2.0,>=1.0->aima) (4.9.1)\n",
      "Requirement already satisfied: entrypoints>=0.2.2 in d:\\anaconda\\lib\\site-packages (from nbconvert->jupyter<2.0,>=1.0->aima) (0.4)\n",
      "Requirement already satisfied: packaging in d:\\anaconda\\lib\\site-packages (from nbconvert->jupyter<2.0,>=1.0->aima) (22.0)\n",
      "Requirement already satisfied: pandocfilters>=1.4.1 in d:\\anaconda\\lib\\site-packages (from nbconvert->jupyter<2.0,>=1.0->aima) (1.5.0)\n",
      "Requirement already satisfied: nbclient>=0.5.0 in d:\\anaconda\\lib\\site-packages (from nbconvert->jupyter<2.0,>=1.0->aima) (0.5.13)\n",
      "Requirement already satisfied: bleach in d:\\anaconda\\lib\\site-packages (from nbconvert->jupyter<2.0,>=1.0->aima) (4.1.0)\n",
      "Requirement already satisfied: MarkupSafe>=2.0 in d:\\anaconda\\lib\\site-packages (from nbconvert->jupyter<2.0,>=1.0->aima) (2.1.1)\n",
      "Requirement already satisfied: tinycss2 in d:\\anaconda\\lib\\site-packages (from nbconvert->jupyter<2.0,>=1.0->aima) (1.2.1)\n",
      "Requirement already satisfied: defusedxml in d:\\anaconda\\lib\\site-packages (from nbconvert->jupyter<2.0,>=1.0->aima) (0.7.1)\n",
      "Requirement already satisfied: mistune<2,>=0.8.1 in d:\\anaconda\\lib\\site-packages (from nbconvert->jupyter<2.0,>=1.0->aima) (0.8.4)\n",
      "Requirement already satisfied: jupyterlab-pygments in d:\\anaconda\\lib\\site-packages (from nbconvert->jupyter<2.0,>=1.0->aima) (0.1.2)\n",
      "Requirement already satisfied: beautifulsoup4 in d:\\anaconda\\lib\\site-packages (from nbconvert->jupyter<2.0,>=1.0->aima) (4.11.1)\n",
      "Requirement already satisfied: six>=1.5 in d:\\anaconda\\lib\\site-packages (from python-dateutil>=2.8.1->pandas<2.0,>=1.5->aima) (1.16.0)\n",
      "Requirement already satisfied: charset-normalizer<3,>=2 in d:\\anaconda\\lib\\site-packages (from requests>=1.0->ipythonblocks<2.0,>=1.9->aima) (2.0.4)\n",
      "Requirement already satisfied: urllib3<1.27,>=1.21.1 in d:\\anaconda\\lib\\site-packages (from requests>=1.0->ipythonblocks<2.0,>=1.9->aima) (1.26.14)\n",
      "Requirement already satisfied: idna<4,>=2.5 in d:\\anaconda\\lib\\site-packages (from requests>=1.0->ipythonblocks<2.0,>=1.9->aima) (3.4)\n",
      "Requirement already satisfied: certifi>=2017.4.17 in d:\\anaconda\\lib\\site-packages (from requests>=1.0->ipythonblocks<2.0,>=1.9->aima) (2022.12.7)\n",
      "Requirement already satisfied: psutil in d:\\anaconda\\lib\\site-packages (from ipykernel->jupyter<2.0,>=1.0->aima) (5.9.0)\n",
      "Requirement already satisfied: comm>=0.1.1 in d:\\anaconda\\lib\\site-packages (from ipykernel->jupyter<2.0,>=1.0->aima) (0.1.2)\n",
      "Requirement already satisfied: debugpy>=1.0 in d:\\anaconda\\lib\\site-packages (from ipykernel->jupyter<2.0,>=1.0->aima) (1.5.1)\n",
      "Requirement already satisfied: jupyterlab-widgets>=1.0.0 in d:\\anaconda\\lib\\site-packages (from ipywidgets->jupyter<2.0,>=1.0->aima) (1.0.0)\n",
      "Requirement already satisfied: widgetsnbextension~=3.5.0 in d:\\anaconda\\lib\\site-packages (from ipywidgets->jupyter<2.0,>=1.0->aima) (3.5.2)\n",
      "Requirement already satisfied: qtpy>=2.0.1 in d:\\anaconda\\lib\\site-packages (from qtconsole->jupyter<2.0,>=1.0->aima) (2.2.0)\n",
      "Requirement already satisfied: parso<0.9.0,>=0.8.0 in d:\\anaconda\\lib\\site-packages (from jedi>=0.16->ipython>=4.0->ipythonblocks<2.0,>=1.9->aima) (0.8.3)\n",
      "Requirement already satisfied: importlib-metadata>=4.8.3 in d:\\anaconda\\lib\\site-packages (from jupyter-client>=5.3.4->notebook>=4.0->ipythonblocks<2.0,>=1.9->aima) (4.11.3)\n",
      "Requirement already satisfied: pywin32>=1.0 in d:\\anaconda\\lib\\site-packages (from jupyter-core>=4.6.1->notebook>=4.0->ipythonblocks<2.0,>=1.9->aima) (305.1)\n",
      "Requirement already satisfied: platformdirs>=2.5 in d:\\anaconda\\lib\\site-packages (from jupyter-core>=4.6.1->notebook>=4.0->ipythonblocks<2.0,>=1.9->aima) (2.5.2)\n",
      "Requirement already satisfied: notebook-shim>=0.1.0 in d:\\anaconda\\lib\\site-packages (from nbclassic>=0.4.7->notebook>=4.0->ipythonblocks<2.0,>=1.9->aima) (0.2.2)\n",
      "Requirement already satisfied: jupyter-server>=1.8 in d:\\anaconda\\lib\\site-packages (from nbclassic>=0.4.7->notebook>=4.0->ipythonblocks<2.0,>=1.9->aima) (1.23.4)\n",
      "Requirement already satisfied: fastjsonschema in d:\\anaconda\\lib\\site-packages (from nbformat->notebook>=4.0->ipythonblocks<2.0,>=1.9->aima) (2.16.2)\n",
      "Requirement already satisfied: jsonschema>=2.6 in d:\\anaconda\\lib\\site-packages (from nbformat->notebook>=4.0->ipythonblocks<2.0,>=1.9->aima) (4.17.3)\n",
      "Requirement already satisfied: wcwidth in d:\\anaconda\\lib\\site-packages (from prompt-toolkit<3.1.0,>=3.0.30->ipython>=4.0->ipythonblocks<2.0,>=1.9->aima) (0.2.5)\n",
      "Requirement already satisfied: pywinpty>=1.1.0 in d:\\anaconda\\lib\\site-packages (from terminado>=0.8.3->notebook>=4.0->ipythonblocks<2.0,>=1.9->aima) (2.0.10)\n",
      "Requirement already satisfied: argon2-cffi-bindings in d:\\anaconda\\lib\\site-packages (from argon2-cffi->notebook>=4.0->ipythonblocks<2.0,>=1.9->aima) (21.2.0)\n",
      "Requirement already satisfied: soupsieve>1.2 in d:\\anaconda\\lib\\site-packages (from beautifulsoup4->nbconvert->jupyter<2.0,>=1.0->aima) (2.3.2.post1)\n",
      "Requirement already satisfied: webencodings in d:\\anaconda\\lib\\site-packages (from bleach->nbconvert->jupyter<2.0,>=1.0->aima) (0.5.1)\n",
      "Requirement already satisfied: pure-eval in d:\\anaconda\\lib\\site-packages (from stack-data->ipython>=4.0->ipythonblocks<2.0,>=1.9->aima) (0.2.2)\n",
      "Requirement already satisfied: asttokens in d:\\anaconda\\lib\\site-packages (from stack-data->ipython>=4.0->ipythonblocks<2.0,>=1.9->aima) (2.0.5)\n",
      "Requirement already satisfied: executing in d:\\anaconda\\lib\\site-packages (from stack-data->ipython>=4.0->ipythonblocks<2.0,>=1.9->aima) (0.8.3)\n",
      "Requirement already satisfied: zipp>=0.5 in d:\\anaconda\\lib\\site-packages (from importlib-metadata>=4.8.3->jupyter-client>=5.3.4->notebook>=4.0->ipythonblocks<2.0,>=1.9->aima) (3.11.0)\n",
      "Requirement already satisfied: attrs>=17.4.0 in d:\\anaconda\\lib\\site-packages (from jsonschema>=2.6->nbformat->notebook>=4.0->ipythonblocks<2.0,>=1.9->aima) (22.1.0)\n",
      "Requirement already satisfied: pyrsistent!=0.17.0,!=0.17.1,!=0.17.2,>=0.14.0 in d:\\anaconda\\lib\\site-packages (from jsonschema>=2.6->nbformat->notebook>=4.0->ipythonblocks<2.0,>=1.9->aima) (0.18.0)\n",
      "Requirement already satisfied: anyio<4,>=3.1.0 in d:\\anaconda\\lib\\site-packages (from jupyter-server>=1.8->nbclassic>=0.4.7->notebook>=4.0->ipythonblocks<2.0,>=1.9->aima) (3.5.0)\n",
      "Requirement already satisfied: websocket-client in d:\\anaconda\\lib\\site-packages (from jupyter-server>=1.8->nbclassic>=0.4.7->notebook>=4.0->ipythonblocks<2.0,>=1.9->aima) (0.58.0)\n",
      "Requirement already satisfied: cffi>=1.0.1 in d:\\anaconda\\lib\\site-packages (from argon2-cffi-bindings->argon2-cffi->notebook>=4.0->ipythonblocks<2.0,>=1.9->aima) (1.15.1)\n",
      "Requirement already satisfied: sniffio>=1.1 in d:\\anaconda\\lib\\site-packages (from anyio<4,>=3.1.0->jupyter-server>=1.8->nbclassic>=0.4.7->notebook>=4.0->ipythonblocks<2.0,>=1.9->aima) (1.2.0)\n",
      "Requirement already satisfied: pycparser in d:\\anaconda\\lib\\site-packages (from cffi>=1.0.1->argon2-cffi-bindings->argon2-cffi->notebook>=4.0->ipythonblocks<2.0,>=1.9->aima) (2.21)\n"
     ]
    },
    {
     "name": "stderr",
     "output_type": "stream",
     "text": [
      "ERROR: Could not find a version that satisfies the requirement aima-python (from versions: none)\n",
      "ERROR: No matching distribution found for aima-python\n"
     ]
    }
   ],
   "source": [
    "! pip install aima"
   ]
  },
  {
   "cell_type": "code",
   "execution_count": 55,
   "metadata": {
    "tags": []
   },
   "outputs": [],
   "source": [
    "# wumpus_kb = PropKB()\n",
    "\n",
    "from aima.logic import PropKB\n",
    "\n",
    "wumpus_kb = PropKB()"
   ]
  },
  {
   "cell_type": "code",
   "execution_count": 56,
   "metadata": {
    "tags": []
   },
   "outputs": [],
   "source": [
    "# P11, P12, P21, P22, P31, B11, B21 = expr('P11, P12, P21, P22, P31, B11, B21')\n",
    "sentence = sp.parse_expr('P11 & P12 & P21 & P22 & P31 & B11 & B21')\n",
    "\n",
    "# Wyciagniecie zmiennych\n",
    "P11, P12, P21, P22, P31, B11, B21  = sentence.free_symbols"
   ]
  },
  {
   "cell_type": "code",
   "execution_count": 57,
   "metadata": {
    "tags": []
   },
   "outputs": [
    {
     "name": "stdout",
     "output_type": "stream",
     "text": [
      "[~P21]\n"
     ]
    }
   ],
   "source": [
    "# wumpus_kb.tell(sp.Not(P11))\n",
    "# wumpus_kb.tell('P & Q')\n",
    "not_P11 = sp.Not(P11)\n",
    "\n",
    "wumpus_kb.tell(str(not_P11))\n",
    "\n",
    "print(wumpus_kb.clauses)"
   ]
  },
  {
   "cell_type": "code",
   "execution_count": 67,
   "metadata": {
    "tags": []
   },
   "outputs": [],
   "source": [
    "# wumpus_kb.tell(B11 | '<=>' | ((P12 | P21)))\n",
    "# wumpus_kb.tell(B21 | '<=>' | ((P11 | P22 | P31)))\n",
    "wumpus_kb.tell(str(sp.Equivalent(B11, P12 | P21)))\n",
    "wumpus_kb.tell(str(sp.Equivalent(B21, P11 | P22 | P31)))"
   ]
  },
  {
   "cell_type": "code",
   "execution_count": 59,
   "metadata": {
    "tags": []
   },
   "outputs": [],
   "source": [
    "wumpus_kb.tell(str(~B11))\n",
    "wumpus_kb.tell(str(B21))"
   ]
  },
  {
   "cell_type": "code",
   "execution_count": 60,
   "metadata": {},
   "outputs": [
    {
     "data": {
      "text/plain": [
       "[~P21,\n",
       " Equivalent(P22, (B11 | P12)),\n",
       " Equivalent(B21, ((P11 | P21) | P31)),\n",
       " ~P22,\n",
       " B21]"
      ]
     },
     "execution_count": 60,
     "metadata": {},
     "output_type": "execute_result"
    }
   ],
   "source": [
    "wumpus_kb.clauses"
   ]
  },
  {
   "cell_type": "code",
   "execution_count": 74,
   "metadata": {},
   "outputs": [
    {
     "data": {
      "text/plain": [
       "[~P21,\n",
       " Equivalent(P22, (B11 | P12)),\n",
       " Equivalent(B21, ((P11 | P21) | P31)),\n",
       " ~P22,\n",
       " B21,\n",
       " Equivalent(P22, (B11 | P12)),\n",
       " Equivalent(B21, ((P11 | P21) | P31)),\n",
       " Implies(~(B21 & P22), (~B11 | ~P21)),\n",
       " Implies(~(B21 & P22), (~B11 | ~P21)),\n",
       " Implies(~(B21 & P22), (~B11 | ~P21)),\n",
       " Implies(~(B21 & P22), (~B11 | ~P21)),\n",
       " ~B1,\n",
       " ~P1,\n",
       " Implies(B2, (P1 | P2)),\n",
       " Implies(B3, (~P2 | ~P3)),\n",
       " Implies(P1, ~P2),\n",
       " Implies(~(B21 & P22), (~B11 | ~P21)),\n",
       " Implies(~(B21 & P22), (~B11 | ~P21)),\n",
       " ~B1,\n",
       " ~P1,\n",
       " Implies(B2, (P1 | P2)),\n",
       " Implies(B3, (~P2 | ~P3)),\n",
       " Implies(P1, ~P2)]"
      ]
     },
     "execution_count": 74,
     "metadata": {},
     "output_type": "execute_result"
    }
   ],
   "source": [
    "wumpus_kb.tell(str(sp.Implies(~(B11 & B21), (~P11) | (~P12))))\n",
    "wumpus_kb.tell(str(sp.Implies(~(B11 & B21), (~P11) | (~P12))))\n",
    "\n",
    "P1, P2, P3 = sp.symbols('P1 P2 P3')\n",
    "B1, B2, B3 = sp.symbols('B1 B2 B3')\n",
    "\n",
    "wumpus_kb.tell(str(sp.Not(B1)))\n",
    "wumpus_kb.tell(str(sp.Not(P1)))\n",
    "wumpus_kb.tell(str(sp.Implies(B2, sp.Or(P1, P2))))\n",
    "wumpus_kb.tell(str(sp.Implies(B3, sp.Or(sp.Not(P2), sp.Not(P3)))))\n",
    "wumpus_kb.tell(str(sp.Implies(P1, sp.Not(P2))))\n",
    "wumpus_kb.clauses\n"
   ]
  }
 ],
 "metadata": {
  "kernelspec": {
   "display_name": "Python 3 (ipykernel)",
   "language": "python",
   "name": "python3"
  },
  "language_info": {
   "codemirror_mode": {
    "name": "ipython",
    "version": 3
   },
   "file_extension": ".py",
   "mimetype": "text/x-python",
   "name": "python",
   "nbconvert_exporter": "python",
   "pygments_lexer": "ipython3",
   "version": "3.10.9"
  }
 },
 "nbformat": 4,
 "nbformat_minor": 4
}
