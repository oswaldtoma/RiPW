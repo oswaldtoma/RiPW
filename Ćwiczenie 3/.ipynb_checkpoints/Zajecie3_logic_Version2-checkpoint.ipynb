{
 "cells": [
  {
   "cell_type": "markdown",
   "metadata": {},
   "source": [
    "# Zajęcie 3: Baza wiedzy na podstawie logiki predykatów"
   ]
  },
  {
   "cell_type": "markdown",
   "metadata": {},
   "source": [
    "<b>Celem</b> jest zapoznanie się z przedstawieniem wiedzy na podstawie logiki predykatów"
   ]
  },
  {
   "cell_type": "code",
   "execution_count": 4,
   "metadata": {},
   "outputs": [
    {
     "name": "stdout",
     "output_type": "stream",
     "text": [
      "Requirement already satisfied: ipython in c:\\users\\vasyl\\anaconda3\\lib\\site-packages (7.22.0)\n",
      "Requirement already satisfied: traitlets>=4.2 in c:\\users\\vasyl\\anaconda3\\lib\\site-packages (from ipython) (5.0.5)\n",
      "Requirement already satisfied: prompt-toolkit!=3.0.0,!=3.0.1,<3.1.0,>=2.0.0 in c:\\users\\vasyl\\anaconda3\\lib\\site-packages (from ipython) (3.0.17)\n",
      "Requirement already satisfied: pickleshare in c:\\users\\vasyl\\anaconda3\\lib\\site-packages (from ipython) (0.7.5)\n",
      "Requirement already satisfied: backcall in c:\\users\\vasyl\\anaconda3\\lib\\site-packages (from ipython) (0.2.0)\n",
      "Requirement already satisfied: setuptools>=18.5 in c:\\users\\vasyl\\anaconda3\\lib\\site-packages (from ipython) (52.0.0.post20210125)\n",
      "Requirement already satisfied: decorator in c:\\users\\vasyl\\anaconda3\\lib\\site-packages (from ipython) (5.0.6)\n",
      "Requirement already satisfied: pygments in c:\\users\\vasyl\\anaconda3\\lib\\site-packages (from ipython) (2.8.1)\n",
      "Requirement already satisfied: jedi>=0.16 in c:\\users\\vasyl\\anaconda3\\lib\\site-packages (from ipython) (0.17.2)\n",
      "Requirement already satisfied: colorama in c:\\users\\vasyl\\anaconda3\\lib\\site-packages (from ipython) (0.4.4)\n",
      "Requirement already satisfied: parso<0.8.0,>=0.7.0 in c:\\users\\vasyl\\anaconda3\\lib\\site-packages (from jedi>=0.16->ipython) (0.7.0)\n",
      "Requirement already satisfied: wcwidth in c:\\users\\vasyl\\anaconda3\\lib\\site-packages (from prompt-toolkit!=3.0.0,!=3.0.1,<3.1.0,>=2.0.0->ipython) (0.2.5)\n",
      "Requirement already satisfied: ipython-genutils in c:\\users\\vasyl\\anaconda3\\lib\\site-packages (from traitlets>=4.2->ipython) (0.2.0)\n"
     ]
    }
   ],
   "source": [
    "! pip install ipython"
   ]
  },
  {
   "cell_type": "code",
   "execution_count": 10,
   "metadata": {},
   "outputs": [
    {
     "name": "stdout",
     "output_type": "stream",
     "text": [
      "Collecting ipythonblocks\n",
      "  Downloading ipythonblocks-1.9.0-py2.py3-none-any.whl (13 kB)\n",
      "Requirement already satisfied: requests>=1.0 in c:\\users\\vasyl\\anaconda3\\lib\\site-packages (from ipythonblocks) (2.25.1)\n",
      "Requirement already satisfied: notebook>=4.0 in c:\\users\\vasyl\\anaconda3\\lib\\site-packages (from ipythonblocks) (6.3.0)\n",
      "Requirement already satisfied: ipython>=4.0 in c:\\users\\vasyl\\anaconda3\\lib\\site-packages (from ipythonblocks) (7.22.0)\n",
      "Requirement already satisfied: jedi>=0.16 in c:\\users\\vasyl\\anaconda3\\lib\\site-packages (from ipython>=4.0->ipythonblocks) (0.17.2)\n",
      "Requirement already satisfied: setuptools>=18.5 in c:\\users\\vasyl\\anaconda3\\lib\\site-packages (from ipython>=4.0->ipythonblocks) (52.0.0.post20210125)\n",
      "Requirement already satisfied: traitlets>=4.2 in c:\\users\\vasyl\\anaconda3\\lib\\site-packages (from ipython>=4.0->ipythonblocks) (5.0.5)\n",
      "Requirement already satisfied: backcall in c:\\users\\vasyl\\anaconda3\\lib\\site-packages (from ipython>=4.0->ipythonblocks) (0.2.0)\n",
      "Requirement already satisfied: pickleshare in c:\\users\\vasyl\\anaconda3\\lib\\site-packages (from ipython>=4.0->ipythonblocks) (0.7.5)\n",
      "Requirement already satisfied: prompt-toolkit!=3.0.0,!=3.0.1,<3.1.0,>=2.0.0 in c:\\users\\vasyl\\anaconda3\\lib\\site-packages (from ipython>=4.0->ipythonblocks) (3.0.17)\n",
      "Requirement already satisfied: colorama in c:\\users\\vasyl\\anaconda3\\lib\\site-packages (from ipython>=4.0->ipythonblocks) (0.4.4)\n",
      "Requirement already satisfied: pygments in c:\\users\\vasyl\\anaconda3\\lib\\site-packages (from ipython>=4.0->ipythonblocks) (2.8.1)\n",
      "Requirement already satisfied: decorator in c:\\users\\vasyl\\anaconda3\\lib\\site-packages (from ipython>=4.0->ipythonblocks) (5.0.6)\n",
      "Requirement already satisfied: parso<0.8.0,>=0.7.0 in c:\\users\\vasyl\\anaconda3\\lib\\site-packages (from jedi>=0.16->ipython>=4.0->ipythonblocks) (0.7.0)\n",
      "Requirement already satisfied: tornado>=6.1 in c:\\users\\vasyl\\anaconda3\\lib\\site-packages (from notebook>=4.0->ipythonblocks) (6.1)\n",
      "Requirement already satisfied: ipykernel in c:\\users\\vasyl\\anaconda3\\lib\\site-packages (from notebook>=4.0->ipythonblocks) (5.3.4)\n",
      "Requirement already satisfied: ipython-genutils in c:\\users\\vasyl\\anaconda3\\lib\\site-packages (from notebook>=4.0->ipythonblocks) (0.2.0)\n",
      "Requirement already satisfied: prometheus-client in c:\\users\\vasyl\\anaconda3\\lib\\site-packages (from notebook>=4.0->ipythonblocks) (0.10.1)\n",
      "Requirement already satisfied: nbconvert in c:\\users\\vasyl\\anaconda3\\lib\\site-packages (from notebook>=4.0->ipythonblocks) (6.0.7)\n",
      "Requirement already satisfied: Send2Trash>=1.5.0 in c:\\users\\vasyl\\anaconda3\\lib\\site-packages (from notebook>=4.0->ipythonblocks) (1.5.0)\n",
      "Requirement already satisfied: terminado>=0.8.3 in c:\\users\\vasyl\\anaconda3\\lib\\site-packages (from notebook>=4.0->ipythonblocks) (0.9.4)\n",
      "Requirement already satisfied: nbformat in c:\\users\\vasyl\\anaconda3\\lib\\site-packages (from notebook>=4.0->ipythonblocks) (5.1.3)\n",
      "Requirement already satisfied: pyzmq>=17 in c:\\users\\vasyl\\anaconda3\\lib\\site-packages (from notebook>=4.0->ipythonblocks) (20.0.0)\n",
      "Requirement already satisfied: jupyter-core>=4.6.1 in c:\\users\\vasyl\\anaconda3\\lib\\site-packages (from notebook>=4.0->ipythonblocks) (4.7.1)\n",
      "Requirement already satisfied: jupyter-client>=5.3.4 in c:\\users\\vasyl\\anaconda3\\lib\\site-packages (from notebook>=4.0->ipythonblocks) (6.1.12)\n",
      "Requirement already satisfied: jinja2 in c:\\users\\vasyl\\anaconda3\\lib\\site-packages (from notebook>=4.0->ipythonblocks) (2.11.3)\n",
      "Requirement already satisfied: argon2-cffi in c:\\users\\vasyl\\anaconda3\\lib\\site-packages (from notebook>=4.0->ipythonblocks) (20.1.0)\n",
      "Requirement already satisfied: python-dateutil>=2.1 in c:\\users\\vasyl\\anaconda3\\lib\\site-packages (from jupyter-client>=5.3.4->notebook>=4.0->ipythonblocks) (2.8.1)\n",
      "Requirement already satisfied: pywin32>=1.0 in c:\\users\\vasyl\\anaconda3\\lib\\site-packages (from jupyter-core>=4.6.1->notebook>=4.0->ipythonblocks) (227)\n",
      "Requirement already satisfied: wcwidth in c:\\users\\vasyl\\anaconda3\\lib\\site-packages (from prompt-toolkit!=3.0.0,!=3.0.1,<3.1.0,>=2.0.0->ipython>=4.0->ipythonblocks) (0.2.5)\n",
      "Requirement already satisfied: six>=1.5 in c:\\users\\vasyl\\anaconda3\\lib\\site-packages (from python-dateutil>=2.1->jupyter-client>=5.3.4->notebook>=4.0->ipythonblocks) (1.15.0)\n",
      "Requirement already satisfied: chardet<5,>=3.0.2 in c:\\users\\vasyl\\anaconda3\\lib\\site-packages (from requests>=1.0->ipythonblocks) (4.0.0)\n",
      "Requirement already satisfied: idna<3,>=2.5 in c:\\users\\vasyl\\anaconda3\\lib\\site-packages (from requests>=1.0->ipythonblocks) (2.10)\n",
      "Requirement already satisfied: urllib3<1.27,>=1.21.1 in c:\\users\\vasyl\\anaconda3\\lib\\site-packages (from requests>=1.0->ipythonblocks) (1.26.4)\n",
      "Requirement already satisfied: certifi>=2017.4.17 in c:\\users\\vasyl\\anaconda3\\lib\\site-packages (from requests>=1.0->ipythonblocks) (2020.12.5)\n",
      "Requirement already satisfied: pywinpty>=0.5 in c:\\users\\vasyl\\anaconda3\\lib\\site-packages (from terminado>=0.8.3->notebook>=4.0->ipythonblocks) (0.5.7)\n",
      "Requirement already satisfied: cffi>=1.0.0 in c:\\users\\vasyl\\anaconda3\\lib\\site-packages (from argon2-cffi->notebook>=4.0->ipythonblocks) (1.14.5)\n",
      "Requirement already satisfied: pycparser in c:\\users\\vasyl\\anaconda3\\lib\\site-packages (from cffi>=1.0.0->argon2-cffi->notebook>=4.0->ipythonblocks) (2.20)\n",
      "Requirement already satisfied: MarkupSafe>=0.23 in c:\\users\\vasyl\\anaconda3\\lib\\site-packages (from jinja2->notebook>=4.0->ipythonblocks) (1.1.1)\n",
      "Requirement already satisfied: testpath in c:\\users\\vasyl\\anaconda3\\lib\\site-packages (from nbconvert->notebook>=4.0->ipythonblocks) (0.4.4)\n",
      "Requirement already satisfied: bleach in c:\\users\\vasyl\\anaconda3\\lib\\site-packages (from nbconvert->notebook>=4.0->ipythonblocks) (3.3.0)\n",
      "Requirement already satisfied: nbclient<0.6.0,>=0.5.0 in c:\\users\\vasyl\\anaconda3\\lib\\site-packages (from nbconvert->notebook>=4.0->ipythonblocks) (0.5.3)\n",
      "Requirement already satisfied: pandocfilters>=1.4.1 in c:\\users\\vasyl\\anaconda3\\lib\\site-packages (from nbconvert->notebook>=4.0->ipythonblocks) (1.4.3)\n",
      "Requirement already satisfied: mistune<2,>=0.8.1 in c:\\users\\vasyl\\anaconda3\\lib\\site-packages (from nbconvert->notebook>=4.0->ipythonblocks) (0.8.4)\n",
      "Requirement already satisfied: defusedxml in c:\\users\\vasyl\\anaconda3\\lib\\site-packages (from nbconvert->notebook>=4.0->ipythonblocks) (0.7.1)\n",
      "Requirement already satisfied: jupyterlab-pygments in c:\\users\\vasyl\\anaconda3\\lib\\site-packages (from nbconvert->notebook>=4.0->ipythonblocks) (0.1.2)\n",
      "Requirement already satisfied: entrypoints>=0.2.2 in c:\\users\\vasyl\\anaconda3\\lib\\site-packages (from nbconvert->notebook>=4.0->ipythonblocks) (0.3)\n",
      "Requirement already satisfied: nest-asyncio in c:\\users\\vasyl\\anaconda3\\lib\\site-packages (from nbclient<0.6.0,>=0.5.0->nbconvert->notebook>=4.0->ipythonblocks) (1.5.1)\n",
      "Requirement already satisfied: async-generator in c:\\users\\vasyl\\anaconda3\\lib\\site-packages (from nbclient<0.6.0,>=0.5.0->nbconvert->notebook>=4.0->ipythonblocks) (1.10)\n",
      "Requirement already satisfied: jsonschema!=2.5.0,>=2.4 in c:\\users\\vasyl\\anaconda3\\lib\\site-packages (from nbformat->notebook>=4.0->ipythonblocks) (3.2.0)\n",
      "Requirement already satisfied: pyrsistent>=0.14.0 in c:\\users\\vasyl\\anaconda3\\lib\\site-packages (from jsonschema!=2.5.0,>=2.4->nbformat->notebook>=4.0->ipythonblocks) (0.17.3)\n",
      "Requirement already satisfied: attrs>=17.4.0 in c:\\users\\vasyl\\anaconda3\\lib\\site-packages (from jsonschema!=2.5.0,>=2.4->nbformat->notebook>=4.0->ipythonblocks) (20.3.0)\n",
      "Requirement already satisfied: webencodings in c:\\users\\vasyl\\anaconda3\\lib\\site-packages (from bleach->nbconvert->notebook>=4.0->ipythonblocks) (0.5.1)\n",
      "Requirement already satisfied: packaging in c:\\users\\vasyl\\anaconda3\\lib\\site-packages (from bleach->nbconvert->notebook>=4.0->ipythonblocks) (20.9)\n",
      "Requirement already satisfied: pyparsing>=2.0.2 in c:\\users\\vasyl\\anaconda3\\lib\\site-packages (from packaging->bleach->nbconvert->notebook>=4.0->ipythonblocks) (2.4.7)\n",
      "Installing collected packages: ipythonblocks\n",
      "Successfully installed ipythonblocks-1.9.0\n"
     ]
    }
   ],
   "source": [
    "! pip install ipythonblocks"
   ]
  },
  {
   "cell_type": "code",
   "execution_count": 12,
   "metadata": {},
   "outputs": [
    {
     "name": "stdout",
     "output_type": "stream",
     "text": [
      "Collecting qpsolvers\n",
      "  Downloading qpsolvers-3.2.0-py3-none-any.whl (72 kB)\n",
      "Requirement already satisfied: scipy>=1.2.0 in c:\\users\\vasyl\\anaconda3\\lib\\site-packages (from qpsolvers) (1.6.2)\n",
      "Collecting osqp>=0.6.2\n",
      "  Downloading osqp-0.6.2.post8-cp38-cp38-win_amd64.whl (292 kB)\n",
      "Requirement already satisfied: numpy>=1.15.4 in c:\\users\\vasyl\\anaconda3\\lib\\site-packages (from qpsolvers) (1.20.1)\n",
      "Collecting ecos>=2.0.8\n",
      "  Downloading ecos-2.0.12-cp38-cp38-win_amd64.whl (72 kB)\n",
      "Collecting scs>=3.2.0\n",
      "  Downloading scs-3.2.2-cp38-cp38-win_amd64.whl (8.2 MB)\n",
      "Collecting qdldl\n",
      "  Downloading qdldl-0.1.5.post3-cp38-cp38-win_amd64.whl (82 kB)\n",
      "Installing collected packages: qdldl, scs, osqp, ecos, qpsolvers\n",
      "Successfully installed ecos-2.0.12 osqp-0.6.2.post8 qdldl-0.1.5.post3 qpsolvers-3.2.0 scs-3.2.2\n"
     ]
    }
   ],
   "source": [
    "! pip install qpsolvers"
   ]
  },
  {
   "cell_type": "code",
   "execution_count": 4,
   "metadata": {
    "tags": []
   },
   "outputs": [],
   "source": [
    "#from IPython import *\n",
    "from utils import *\n",
    "from logic import *\n",
    "from notebook import psource"
   ]
  },
  {
   "cell_type": "markdown",
   "metadata": {},
   "source": [
    "## Spis Treści\n",
    "- Zdania logiczne\n",
    "     - Expr\n",
    "     - PropKB\n",
    "     - Agentów opartych na wiedzy\n",
    "     - Wnioskowanie w zdaniowej bazie wiedzy\n",
    "         - Wyliczanie tabeli prawdy\n",
    "         - Dowód w drodze uchwały\n",
    "         - Łańcuch do przodu i do tyłu\n",
    "         - DPLL\n",
    "         - WalkSAT\n",
    "         - SATPlan\n",
    "     - FolKB\n",
    "     - Wnioskowanie w bazie wiedzy pierwszego rzędu\n",
    "         - Zjednoczenie\n",
    "         - Algorytm łączenia w przód\n",
    "         - Algorytm łańcuchowania wstecznego"
   ]
  },
  {
   "cell_type": "markdown",
   "metadata": {},
   "source": [
    "## Zdania logiczne"
   ]
  },
  {
   "cell_type": "markdown",
   "metadata": {},
   "source": [
    "Klasa `Expr` jest przeznaczona do reprezentowania dowolnego rodzaju wyrażenia matematycznego. Najprostszym typem `Expr` jest symbol, który można zdefiniować za pomocą funkcji `Symbol`:"
   ]
  },
  {
   "cell_type": "code",
   "execution_count": 5,
   "metadata": {},
   "outputs": [
    {
     "data": {
      "text/plain": [
       "x"
      ]
     },
     "execution_count": 5,
     "metadata": {},
     "output_type": "execute_result"
    }
   ],
   "source": [
    "Symbol('x')"
   ]
  },
  {
   "cell_type": "markdown",
   "metadata": {},
   "source": [
    "Lub możemy zdefiniować wiele symboli jednocześnie za pomocą funkcji `symbols`:"
   ]
  },
  {
   "cell_type": "code",
   "execution_count": 6,
   "metadata": {
    "tags": []
   },
   "outputs": [],
   "source": [
    "(x, y, P, Q, f) = symbols('x, y, P, Q, f')"
   ]
  },
  {
   "cell_type": "markdown",
   "metadata": {},
   "source": [
    "Możemy łączyć `Expr` ze zwykłymi operatorami infiksów i prefiksów Pythona. Oto jak utworzylibyśmy zdanie logiczne „P and not Q”:"
   ]
  },
  {
   "cell_type": "code",
   "execution_count": 7,
   "metadata": {},
   "outputs": [
    {
     "data": {
      "text/plain": [
       "(P & ~Q)"
      ]
     },
     "execution_count": 7,
     "metadata": {},
     "output_type": "execute_result"
    }
   ],
   "source": [
    "P & ~Q"
   ]
  },
  {
   "cell_type": "markdown",
   "metadata": {},
   "source": [
    "Działa to, ponieważ klasa `Expr` przeciąża operatora `&` następującą definicją:\n",
    "\n",
    "```pyton\n",
    "def __and__(self, other): return Expr('&', self, other)```\n",
    "     \n",
    "i wykonuje podobne przeciążenia dla innych operatorów. `Expr` ma dwa pola: `op` dla operatora, który jest zawsze ciągiem znaków, oraz `args` dla argumentów, które są krotką 0 lub więcej wyrażeń. Przez „expression” rozumiemy albo instancję „Expr”, albo liczbę. Rzućmy okiem na pola dla przykładów `Expr`:"
   ]
  },
  {
   "cell_type": "code",
   "execution_count": 8,
   "metadata": {},
   "outputs": [
    {
     "data": {
      "text/plain": [
       "'&'"
      ]
     },
     "execution_count": 8,
     "metadata": {},
     "output_type": "execute_result"
    }
   ],
   "source": [
    "sentence = P & ~Q\n",
    "\n",
    "sentence.op"
   ]
  },
  {
   "cell_type": "code",
   "execution_count": 9,
   "metadata": {},
   "outputs": [
    {
     "data": {
      "text/plain": [
       "(P, ~Q)"
      ]
     },
     "execution_count": 9,
     "metadata": {},
     "output_type": "execute_result"
    }
   ],
   "source": [
    "sentence.args"
   ]
  },
  {
   "cell_type": "code",
   "execution_count": 10,
   "metadata": {},
   "outputs": [
    {
     "data": {
      "text/plain": [
       "'P'"
      ]
     },
     "execution_count": 10,
     "metadata": {},
     "output_type": "execute_result"
    }
   ],
   "source": [
    "P.op"
   ]
  },
  {
   "cell_type": "code",
   "execution_count": 11,
   "metadata": {},
   "outputs": [
    {
     "data": {
      "text/plain": [
       "()"
      ]
     },
     "execution_count": 11,
     "metadata": {},
     "output_type": "execute_result"
    }
   ],
   "source": [
    "P.args"
   ]
  },
  {
   "cell_type": "code",
   "execution_count": 12,
   "metadata": {},
   "outputs": [
    {
     "data": {
      "text/plain": [
       "'P'"
      ]
     },
     "execution_count": 12,
     "metadata": {},
     "output_type": "execute_result"
    }
   ],
   "source": [
    "Pxy = P(x, y)\n",
    "\n",
    "Pxy.op"
   ]
  },
  {
   "cell_type": "code",
   "execution_count": 13,
   "metadata": {},
   "outputs": [
    {
     "data": {
      "text/plain": [
       "(x, y)"
      ]
     },
     "execution_count": 13,
     "metadata": {},
     "output_type": "execute_result"
    }
   ],
   "source": [
    "Pxy.args"
   ]
  },
  {
   "cell_type": "markdown",
   "metadata": {},
   "source": [
    "Należy zauważyć, że klasa `Expr` nie definiuje *logiki* zdań; po prostu daje ci możliwość *reprezentowania* wyrażeń. Pomyśl o `Expr` jako o [abstrakcyjnym drzewie składni](https://en.wikipedia.org/wiki/Abstract_syntax_tree). Każdy z `args` w `Expr` może być symbolem, liczbą lub zagnieżdżonym `Expr`. Drzewa te możemy zagnieździć na dowolną głębokość. Oto zagnieżdżone `Expr`:"
   ]
  },
  {
   "cell_type": "code",
   "execution_count": 14,
   "metadata": {},
   "outputs": [
    {
     "data": {
      "text/plain": [
       "(((3 * f(x, y)) + (P(y) / 2)) + 1)"
      ]
     },
     "execution_count": 14,
     "metadata": {},
     "output_type": "execute_result"
    }
   ],
   "source": [
    "3 * f(x, y) + P(y) / 2 + 1"
   ]
  },
  {
   "cell_type": "markdown",
   "metadata": {},
   "source": [
    "## Operatory do konstruowania zdań logicznych\n",
    "\n",
    "Oto tabela operatorów, których można użyć do tworzenia zdań. Zauważ, że mamy problem: chcemy użyć operatorów Pythona do tworzenia zdań, aby nasze programy (i nasze interaktywne sesje, takie jak ta tutaj) pokazywały prosty kod. Ale Python nie dopuszcza strzałek implikacji jako operatorów, więc na razie musimy użyć bardziej szczegółowej notacji, na którą Python pozwala: `|'==>'|` zamiast samego `==>`. Alternatywnie, zawsze możemy użyć bardziej szczegółowych formularzy konstruktora `Expr`:\n",
    "\n",
    "| Operation                | Book | Python Infix Input | Python Output | Python `Expr` Input\n",
    "|--------------------------|----------------------|-------------------------|---|---|\n",
    "| Negation                 | &not; P      | `~P`                       | `~P` | `Expr('~', P)`\n",
    "| And                      | P &and; Q       | `P & Q`                     | `P & Q` | `Expr('&', P, Q)`\n",
    "| Or                       | P &or; Q | `P`<tt> &#124; </tt>`Q`| `P`<tt> &#124; </tt>`Q` | `Expr('`&#124;`', P, Q)`\n",
    "| Inequality (Xor)         | P &ne; Q     | `P ^ Q`                | `P ^ Q`  | `Expr('^', P, Q)`\n",
    "| Implication                  | P &rarr; Q    | `P` <tt>&#124;</tt>`'==>'`<tt>&#124;</tt> `Q`   | `P ==> Q` | `Expr('==>', P, Q)`\n",
    "| Reverse Implication      | Q &larr; P     | `Q` <tt>&#124;</tt>`'<=='`<tt>&#124;</tt> `P`  |`Q <== P` | `Expr('<==', Q, P)`\n",
    "| Equivalence            | P &harr; Q   | `P` <tt>&#124;</tt>`'<=>'`<tt>&#124;</tt> `Q`   |`P <=> Q` | `Expr('<=>', P, Q)`\n",
    "\n",
    "Oto przykład definiowania zdania za pomocą strzałki implikacji:"
   ]
  },
  {
   "cell_type": "code",
   "execution_count": 15,
   "metadata": {},
   "outputs": [
    {
     "data": {
      "text/plain": [
       "(~(P & Q) ==> (~P | ~Q))"
      ]
     },
     "execution_count": 15,
     "metadata": {},
     "output_type": "execute_result"
    }
   ],
   "source": [
    "~(P & Q)  |'==>'|  (~P | ~Q)"
   ]
  },
  {
   "cell_type": "markdown",
   "metadata": {},
   "source": [
    "## `expr`: Skrót do konstruowania zdań\n",
    "\n",
    "Jeśli notacja `|'==>'|` wygląda dla ciebie brzydko, możesz zamiast tego użyć funkcji `expr`:"
   ]
  },
  {
   "cell_type": "code",
   "execution_count": 16,
   "metadata": {},
   "outputs": [
    {
     "data": {
      "text/plain": [
       "(~(P & Q) ==> (~P | ~Q))"
      ]
     },
     "execution_count": 16,
     "metadata": {},
     "output_type": "execute_result"
    }
   ],
   "source": [
    "expr('~(P & Q)  ==>  (~P | ~Q)')"
   ]
  },
  {
   "cell_type": "markdown",
   "metadata": {},
   "source": [
    "`expr` pobiera ciąg jako dane wejściowe i analizuje go w `Expr`. Łańcuch może zawierać operatory strzałek: `==>`, `<==` lub `<=>`, które są obsługiwane tak, jakby były zwykłymi operatorami wrostków Pythona. A `expr` automatycznie definiuje dowolne symbole, więc nie musisz ich wstępnie definiować:"
   ]
  },
  {
   "cell_type": "code",
   "execution_count": 17,
   "metadata": {},
   "outputs": [
    {
     "data": {
      "text/plain": [
       "sqrt(((b ** 2) - ((4 * a) * c)))"
      ]
     },
     "execution_count": 17,
     "metadata": {},
     "output_type": "execute_result"
    }
   ],
   "source": [
    "expr('sqrt(b ** 2 - 4 * a * c)')"
   ]
  },
  {
   "cell_type": "markdown",
   "metadata": {},
   "source": [
    "Na razie to wszystko, co musimy wiedzieć o `expr`. "
   ]
  },
  {
   "cell_type": "markdown",
   "metadata": {},
   "source": [
    "## Zdaniowe bazy wiedzy: `PropKB`\n",
    "\n",
    "Klasa `PropKB` może być używana do reprezentowania bazy wiedzy o zdaniach logicznych.\n",
    "\n",
    "Widzimy, że klasa `KB` ma cztery metody oprócz `__init__`. W tym miejscu należy zwrócić uwagę: metoda `ask` po prostu wywołuje metodę `ask_generator`. Tak więc ta klasa została już zaimplementowana, a to, co będziesz musiał zaimplementować podczas tworzenia własnej klasy bazy wiedzy to ` ask_generator`, a nie samą funkcję `ask`.\n",
    "\n",
    "Klasa `PropKB` teraz.\n",
    "* `__init__(self, sent=None)` : Konstruktor `__init__` tworzy pojedyncze pole `clauses`, które będzie listą wszystkich zdań bazy wiedzy. Zauważ, że każde z tych zdań będzie „klauzulą”, tj. zdaniem, które składa się tylko z literałów i „lub”.\n",
    "* `tell(self, sentence)` : Gdy chcesz dodać zdanie do KB, używasz metody `tell`. Ta metoda pobiera zdanie, konwertuje je na jego CNF, wyodrębnia wszystkie klauzule i dodaje wszystkie te klauzule do pola `clauses`. Nie musisz się więc martwić o „opowiadanie” tylko klauzul do bazy wiedzy. Możesz „powiedzieć” bazie wiedzy zdanie w dowolnej formie; przekonwertowanie go na CNF i dodanie wynikowych klauzul będzie obsługiwane przez metodę `tell`.\n",
    "* `ask_generator(self, query)` : Funkcja `ask_generator` jest używana przez funkcję `ask`. Wywołuje funkcję `tt_entails`, która z kolei zwraca wartość `True`, jeśli baza wiedzy obejmuje zapytanie i `False` w przeciwnym razie. Sam `ask_generator` zwraca pusty dyktat `{}`, jeśli baza wiedzy zawiera zapytanie, a `None` w przeciwnym razie. Może ci się to wydawać trochę dziwne. W końcu bardziej sensowne jest zwracanie „Prawda” lub „Fałsz” zamiast „{}” lub „Brak”. Ma to jednak na celu zachowanie spójności ze sposobem, w jaki rzeczy mają się w logice pierwszego rzędu, gdzie Funkcja `ask_generator` ma zwrócić wszystkie podstawienia, które sprawiają, że zapytanie jest prawdziwe. Stąd dyktat, aby zwrócić wszystkie te podstawienia. Będę głównie korzystał z funkcji `ask`, która zwraca `{}` lub `False`, ale jeśli ci się to nie podoba, zawsze możesz użyć funkcji `ask_if_true`, która zwraca `True` lub `Fałsz`.\n",
    "* `retract(self, sentence)` : Ta funkcja usuwa wszystkie klauzule podanego zdania z bazy wiedzy. Podobnie jak w przypadku funkcji `tell`, nie musisz przekazywać klauzul, aby usunąć je z bazy wiedzy; każde zdanie będzie dobre. Funkcja zajmie się konwersją tego zdania na klauzule, a następnie je usunie."
   ]
  },
  {
   "cell_type": "markdown",
   "metadata": {},
   "source": [
    "## Przykład zdaniowej bazy wiedzy"
   ]
  },
  {
   "cell_type": "code",
   "execution_count": 18,
   "metadata": {
    "tags": []
   },
   "outputs": [],
   "source": [
    "wumpus_kb = PropKB()"
   ]
  },
  {
   "cell_type": "markdown",
   "metadata": {},
   "source": [
    "Definiujemy symbole, których używamy w naszych klauzulach.<br/>\n",
    "$P_{x, y}$ jest prawdziwe, jeśli w `[x, y]` agent wyczuje dół.<br/>\n",
    "$B_{x, y}$ jest prawdziwe, jeśli agent wyczuje wiatr w `[x, y]`.<br/>"
   ]
  },
  {
   "cell_type": "code",
   "execution_count": 19,
   "metadata": {
    "tags": []
   },
   "outputs": [],
   "source": [
    "P11, P12, P21, P22, P31, B11, B21 = expr('P11, P12, P21, P22, P31, B11, B21')"
   ]
  },
  {
   "cell_type": "markdown",
   "metadata": {},
   "source": [
    "Brak doliny w  `[1,1]`."
   ]
  },
  {
   "cell_type": "code",
   "execution_count": 20,
   "metadata": {
    "tags": []
   },
   "outputs": [],
   "source": [
    "wumpus_kb.tell(~P11)"
   ]
  },
  {
   "cell_type": "markdown",
   "metadata": {},
   "source": [
    "Kwadrat jest przewiewny wtedy i tylko wtedy, gdy na sąsiednim kwadracie znajduje się dół. Należy to określić dla każdego kwadratu, ale na razie uwzględniamy tylko odpowiednie kwadraty."
   ]
  },
  {
   "cell_type": "code",
   "execution_count": 21,
   "metadata": {
    "tags": []
   },
   "outputs": [],
   "source": [
    "wumpus_kb.tell(B11 | '<=>' | ((P12 | P21)))\n",
    "wumpus_kb.tell(B21 | '<=>' | ((P11 | P22 | P31)))"
   ]
  },
  {
   "cell_type": "markdown",
   "metadata": {},
   "source": [
    "Teraz uwzględniamy postrzeganie bryzy dla pierwszych dwóch kwadratów."
   ]
  },
  {
   "cell_type": "code",
   "execution_count": 32,
   "metadata": {
    "tags": []
   },
   "outputs": [],
   "source": [
    "wumpus_kb.tell(~B11)\n",
    "wumpus_kb.tell(B21)"
   ]
  },
  {
   "cell_type": "markdown",
   "metadata": {},
   "source": [
    "Możemy sprawdzić klauzule przechowywane w `KB`, uzyskując dostęp do jej zmiennej `clauses`"
   ]
  },
  {
   "cell_type": "code",
   "execution_count": 33,
   "metadata": {},
   "outputs": [
    {
     "data": {
      "text/plain": [
       "[~P11,\n",
       " (~P12 | B11),\n",
       " (~P21 | B11),\n",
       " (P12 | P21 | ~B11),\n",
       " (~P11 | B21),\n",
       " (~P22 | B21),\n",
       " (~P31 | B21),\n",
       " (P11 | P22 | P31 | ~B21),\n",
       " ~B11,\n",
       " B21]"
      ]
     },
     "execution_count": 33,
     "metadata": {},
     "output_type": "execute_result"
    }
   ],
   "source": [
    "wumpus_kb.clauses"
   ]
  },
  {
   "cell_type": "markdown",
   "metadata": {},
   "source": [
    "Widzimy, że równoważność $B_{1, 1} \\iff (P_{1, 2} \\lor P_{2, 1})$ została automatycznie zamieniona na dwie implikacje, które z kolei zostały zamienione na CNF przechowywane w `KB `.<br/>\n",
    "$B_{1, 1} \\iff (P_{1, 2} \\lor P_{2, 1})$ zostało podzielone na $B_{1, 1} \\implies (P_{1, 2} \\lor P_{2 , 1})$ i $B_{1, 1} \\Longleftarrow (P_{1, 2} \\lor P_{2, 1})$.<br/>\n",
    "$B_{1, 1} \\implies (P_{1, 2} \\lor P_{2, 1})$ zostało przekonwertowane na $P_{1, 2} \\lor P_{2, 1} \\lor \\neg B_{ 1, 1}$.<br/>\n",
    "$B_{1, 1} \\Longleftarrow (P_{1, 2} \\lor P_{2, 1})$ zostało przekonwertowany na $\\neg (P_{1, 2} \\lor P_{2, 1}) \\lor B_{1, 1}$, co po stosując prawa De Morgana i dysjunkcję.<br/>\n",
    "$B_{2, 1} \\iff (P_{1, 1} \\lor P_{2, 2} \\lor P_{3, 2})$ jest konwertowane w podobny sposób."
   ]
  },
  {
   "cell_type": "markdown",
   "metadata": {},
   "source": [
    "## Agenty Bazy Wiedzy"
   ]
  },
  {
   "cell_type": "markdown",
   "metadata": {},
   "source": [
    "Agent oparty na wiedzy jest prostym agentem ogólnym, który utrzymuje i obsługuje bazę wiedzy.\n",
    "Baza wiedzy może początkowo zawierać pewną wiedzę podstawową.\n",
    "<br>\n",
    "Celem agenta KB jest zapewnienie poziomu abstrakcji w stosunku do manipulacji bazą wiedzy i ma ona być używana jako klasa bazowa dla agentów pracujących na bazie wiedzy.\n",
    "<br>\n",
    "Po otrzymaniu perceptu agent KB dodaje percept do swojej bazy wiedzy, prosi bazę wiedzy o najlepsze działanie i informuje bazę wiedzy, że faktycznie podjął to działanie.\n",
    "<br>\n",
    "Implementacja `KB-Agent` jest zawarta w klasie `KB_AgentProgram`, która dziedziczy z klasy `KB`.\n",
    "<br>\n",
    "Spójrzmy."
   ]
  },
  {
   "cell_type": "code",
   "execution_count": 132,
   "metadata": {},
   "outputs": [
    {
     "data": {
      "text/html": [
       "<!DOCTYPE html PUBLIC \"-//W3C//DTD HTML 4.01//EN\"\n",
       "   \"http://www.w3.org/TR/html4/strict.dtd\">\n",
       "<!--\n",
       "generated by Pygments <https://pygments.org/>\n",
       "Copyright 2006-2021 by the Pygments team.\n",
       "Licensed under the BSD license, see LICENSE for details.\n",
       "-->\n",
       "<html>\n",
       "<head>\n",
       "  <title></title>\n",
       "  <meta http-equiv=\"content-type\" content=\"text/html; charset=None\">\n",
       "  <style type=\"text/css\">\n",
       "/*\n",
       "generated by Pygments <https://pygments.org/>\n",
       "Copyright 2006-2021 by the Pygments team.\n",
       "Licensed under the BSD license, see LICENSE for details.\n",
       "*/\n",
       "pre { line-height: 125%; }\n",
       "td.linenos .normal { color: inherit; background-color: transparent; padding-left: 5px; padding-right: 5px; }\n",
       "span.linenos { color: inherit; background-color: transparent; padding-left: 5px; padding-right: 5px; }\n",
       "td.linenos .special { color: #000000; background-color: #ffffc0; padding-left: 5px; padding-right: 5px; }\n",
       "span.linenos.special { color: #000000; background-color: #ffffc0; padding-left: 5px; padding-right: 5px; }\n",
       "body .hll { background-color: #ffffcc }\n",
       "body { background: #f8f8f8; }\n",
       "body .c { color: #408080; font-style: italic } /* Comment */\n",
       "body .err { border: 1px solid #FF0000 } /* Error */\n",
       "body .k { color: #008000; font-weight: bold } /* Keyword */\n",
       "body .o { color: #666666 } /* Operator */\n",
       "body .ch { color: #408080; font-style: italic } /* Comment.Hashbang */\n",
       "body .cm { color: #408080; font-style: italic } /* Comment.Multiline */\n",
       "body .cp { color: #BC7A00 } /* Comment.Preproc */\n",
       "body .cpf { color: #408080; font-style: italic } /* Comment.PreprocFile */\n",
       "body .c1 { color: #408080; font-style: italic } /* Comment.Single */\n",
       "body .cs { color: #408080; font-style: italic } /* Comment.Special */\n",
       "body .gd { color: #A00000 } /* Generic.Deleted */\n",
       "body .ge { font-style: italic } /* Generic.Emph */\n",
       "body .gr { color: #FF0000 } /* Generic.Error */\n",
       "body .gh { color: #000080; font-weight: bold } /* Generic.Heading */\n",
       "body .gi { color: #00A000 } /* Generic.Inserted */\n",
       "body .go { color: #888888 } /* Generic.Output */\n",
       "body .gp { color: #000080; font-weight: bold } /* Generic.Prompt */\n",
       "body .gs { font-weight: bold } /* Generic.Strong */\n",
       "body .gu { color: #800080; font-weight: bold } /* Generic.Subheading */\n",
       "body .gt { color: #0044DD } /* Generic.Traceback */\n",
       "body .kc { color: #008000; font-weight: bold } /* Keyword.Constant */\n",
       "body .kd { color: #008000; font-weight: bold } /* Keyword.Declaration */\n",
       "body .kn { color: #008000; font-weight: bold } /* Keyword.Namespace */\n",
       "body .kp { color: #008000 } /* Keyword.Pseudo */\n",
       "body .kr { color: #008000; font-weight: bold } /* Keyword.Reserved */\n",
       "body .kt { color: #B00040 } /* Keyword.Type */\n",
       "body .m { color: #666666 } /* Literal.Number */\n",
       "body .s { color: #BA2121 } /* Literal.String */\n",
       "body .na { color: #7D9029 } /* Name.Attribute */\n",
       "body .nb { color: #008000 } /* Name.Builtin */\n",
       "body .nc { color: #0000FF; font-weight: bold } /* Name.Class */\n",
       "body .no { color: #880000 } /* Name.Constant */\n",
       "body .nd { color: #AA22FF } /* Name.Decorator */\n",
       "body .ni { color: #999999; font-weight: bold } /* Name.Entity */\n",
       "body .ne { color: #D2413A; font-weight: bold } /* Name.Exception */\n",
       "body .nf { color: #0000FF } /* Name.Function */\n",
       "body .nl { color: #A0A000 } /* Name.Label */\n",
       "body .nn { color: #0000FF; font-weight: bold } /* Name.Namespace */\n",
       "body .nt { color: #008000; font-weight: bold } /* Name.Tag */\n",
       "body .nv { color: #19177C } /* Name.Variable */\n",
       "body .ow { color: #AA22FF; font-weight: bold } /* Operator.Word */\n",
       "body .w { color: #bbbbbb } /* Text.Whitespace */\n",
       "body .mb { color: #666666 } /* Literal.Number.Bin */\n",
       "body .mf { color: #666666 } /* Literal.Number.Float */\n",
       "body .mh { color: #666666 } /* Literal.Number.Hex */\n",
       "body .mi { color: #666666 } /* Literal.Number.Integer */\n",
       "body .mo { color: #666666 } /* Literal.Number.Oct */\n",
       "body .sa { color: #BA2121 } /* Literal.String.Affix */\n",
       "body .sb { color: #BA2121 } /* Literal.String.Backtick */\n",
       "body .sc { color: #BA2121 } /* Literal.String.Char */\n",
       "body .dl { color: #BA2121 } /* Literal.String.Delimiter */\n",
       "body .sd { color: #BA2121; font-style: italic } /* Literal.String.Doc */\n",
       "body .s2 { color: #BA2121 } /* Literal.String.Double */\n",
       "body .se { color: #BB6622; font-weight: bold } /* Literal.String.Escape */\n",
       "body .sh { color: #BA2121 } /* Literal.String.Heredoc */\n",
       "body .si { color: #BB6688; font-weight: bold } /* Literal.String.Interpol */\n",
       "body .sx { color: #008000 } /* Literal.String.Other */\n",
       "body .sr { color: #BB6688 } /* Literal.String.Regex */\n",
       "body .s1 { color: #BA2121 } /* Literal.String.Single */\n",
       "body .ss { color: #19177C } /* Literal.String.Symbol */\n",
       "body .bp { color: #008000 } /* Name.Builtin.Pseudo */\n",
       "body .fm { color: #0000FF } /* Name.Function.Magic */\n",
       "body .vc { color: #19177C } /* Name.Variable.Class */\n",
       "body .vg { color: #19177C } /* Name.Variable.Global */\n",
       "body .vi { color: #19177C } /* Name.Variable.Instance */\n",
       "body .vm { color: #19177C } /* Name.Variable.Magic */\n",
       "body .il { color: #666666 } /* Literal.Number.Integer.Long */\n",
       "\n",
       "  </style>\n",
       "</head>\n",
       "<body>\n",
       "<h2></h2>\n",
       "\n",
       "<div class=\"highlight\"><pre><span></span><span class=\"k\">def</span> <span class=\"nf\">KBAgentProgram</span><span class=\"p\">(</span><span class=\"n\">kb</span><span class=\"p\">):</span>\n",
       "    <span class=\"sd\">&quot;&quot;&quot;</span>\n",
       "<span class=\"sd\">    [Figure 7.1]</span>\n",
       "<span class=\"sd\">    A generic logical knowledge-based agent program.</span>\n",
       "<span class=\"sd\">    &quot;&quot;&quot;</span>\n",
       "    <span class=\"n\">steps</span> <span class=\"o\">=</span> <span class=\"n\">itertools</span><span class=\"o\">.</span><span class=\"n\">count</span><span class=\"p\">()</span>\n",
       "\n",
       "    <span class=\"k\">def</span> <span class=\"nf\">program</span><span class=\"p\">(</span><span class=\"n\">percept</span><span class=\"p\">):</span>\n",
       "        <span class=\"n\">t</span> <span class=\"o\">=</span> <span class=\"nb\">next</span><span class=\"p\">(</span><span class=\"n\">steps</span><span class=\"p\">)</span>\n",
       "        <span class=\"n\">kb</span><span class=\"o\">.</span><span class=\"n\">tell</span><span class=\"p\">(</span><span class=\"n\">make_percept_sentence</span><span class=\"p\">(</span><span class=\"n\">percept</span><span class=\"p\">,</span> <span class=\"n\">t</span><span class=\"p\">))</span>\n",
       "        <span class=\"n\">action</span> <span class=\"o\">=</span> <span class=\"n\">kb</span><span class=\"o\">.</span><span class=\"n\">ask</span><span class=\"p\">(</span><span class=\"n\">make_action_query</span><span class=\"p\">(</span><span class=\"n\">t</span><span class=\"p\">))</span>\n",
       "        <span class=\"n\">kb</span><span class=\"o\">.</span><span class=\"n\">tell</span><span class=\"p\">(</span><span class=\"n\">make_action_sentence</span><span class=\"p\">(</span><span class=\"n\">action</span><span class=\"p\">,</span> <span class=\"n\">t</span><span class=\"p\">))</span>\n",
       "        <span class=\"k\">return</span> <span class=\"n\">action</span>\n",
       "\n",
       "    <span class=\"k\">def</span> <span class=\"nf\">make_percept_sentence</span><span class=\"p\">(</span><span class=\"n\">percept</span><span class=\"p\">,</span> <span class=\"n\">t</span><span class=\"p\">):</span>\n",
       "        <span class=\"k\">return</span> <span class=\"n\">Expr</span><span class=\"p\">(</span><span class=\"s1\">&#39;Percept&#39;</span><span class=\"p\">)(</span><span class=\"n\">percept</span><span class=\"p\">,</span> <span class=\"n\">t</span><span class=\"p\">)</span>\n",
       "\n",
       "    <span class=\"k\">def</span> <span class=\"nf\">make_action_query</span><span class=\"p\">(</span><span class=\"n\">t</span><span class=\"p\">):</span>\n",
       "        <span class=\"k\">return</span> <span class=\"n\">expr</span><span class=\"p\">(</span><span class=\"s1\">&#39;ShouldDo(action, </span><span class=\"si\">{}</span><span class=\"s1\">)&#39;</span><span class=\"o\">.</span><span class=\"n\">format</span><span class=\"p\">(</span><span class=\"n\">t</span><span class=\"p\">))</span>\n",
       "\n",
       "    <span class=\"k\">def</span> <span class=\"nf\">make_action_sentence</span><span class=\"p\">(</span><span class=\"n\">action</span><span class=\"p\">,</span> <span class=\"n\">t</span><span class=\"p\">):</span>\n",
       "        <span class=\"k\">return</span> <span class=\"n\">Expr</span><span class=\"p\">(</span><span class=\"s1\">&#39;Did&#39;</span><span class=\"p\">)(</span><span class=\"n\">action</span><span class=\"p\">[</span><span class=\"n\">expr</span><span class=\"p\">(</span><span class=\"s1\">&#39;action&#39;</span><span class=\"p\">)],</span> <span class=\"n\">t</span><span class=\"p\">)</span>\n",
       "\n",
       "    <span class=\"k\">return</span> <span class=\"n\">program</span>\n",
       "</pre></div>\n",
       "</body>\n",
       "</html>\n"
      ],
      "text/plain": [
       "<IPython.core.display.HTML object>"
      ]
     },
     "metadata": {},
     "output_type": "display_data"
    }
   ],
   "source": [
    "psource(KBAgentProgram)"
   ]
  },
  {
   "cell_type": "markdown",
   "metadata": {},
   "source": [
    "Funkcje pomocnicze `make_percept_sentence`, `make_action_query` i `make_action_sentence` mają trafne nazwy i zgodnie z oczekiwaniami,\n",
    "`make_percept_sentence` tworzy zdania logiczne pierwszego rzędu dotyczące perceptów, które chcemy otrzymać od naszego agenta,\n",
    "`make_action_query` pyta podstawową `KB` o akcję, która powinna zostać podjęta i\n",
    "`make_action_sentence` informuje bazową `KB` o akcji, którą właśnie podjął."
   ]
  },
  {
   "cell_type": "markdown",
   "metadata": {},
   "source": [
    "## Wnioskowanie w Propositional Knowledge Base\n",
    "W tej sekcji przyjrzymy się dwóm algorytmom, aby sprawdzić, czy zdanie wynika z `KB`. Naszym celem jest podjęcie decyzji, czy $\\text{KB} \\vDash \\alpha$ dla jakiegoś zdania $\\alpha$.\n",
    "### Wyliczanie tabeli prawdy\n",
    "Jest to podejście polegające na sprawdzaniu modeli, które, jak sama nazwa wskazuje, wylicza wszystkie możliwe modele, w których `KB` jest prawdziwe i sprawdza, czy $\\alpha$ jest również prawdziwe w tych modelach. Wymieniamy $n$ symbole  w `KB` i wyliczamy $2^{n}$ modele  w pierwszej kolejności i sprawdzamy prawdziwość `KB` i $\\alpha$."
   ]
  },
  {
   "cell_type": "code",
   "execution_count": 36,
   "metadata": {},
   "outputs": [
    {
     "data": {
      "text/html": [
       "<!DOCTYPE html PUBLIC \"-//W3C//DTD HTML 4.01//EN\"\n",
       "   \"http://www.w3.org/TR/html4/strict.dtd\">\n",
       "<!--\n",
       "generated by Pygments <https://pygments.org/>\n",
       "Copyright 2006-2021 by the Pygments team.\n",
       "Licensed under the BSD license, see LICENSE for details.\n",
       "-->\n",
       "<html>\n",
       "<head>\n",
       "  <title></title>\n",
       "  <meta http-equiv=\"content-type\" content=\"text/html; charset=None\">\n",
       "  <style type=\"text/css\">\n",
       "/*\n",
       "generated by Pygments <https://pygments.org/>\n",
       "Copyright 2006-2021 by the Pygments team.\n",
       "Licensed under the BSD license, see LICENSE for details.\n",
       "*/\n",
       "pre { line-height: 125%; }\n",
       "td.linenos .normal { color: inherit; background-color: transparent; padding-left: 5px; padding-right: 5px; }\n",
       "span.linenos { color: inherit; background-color: transparent; padding-left: 5px; padding-right: 5px; }\n",
       "td.linenos .special { color: #000000; background-color: #ffffc0; padding-left: 5px; padding-right: 5px; }\n",
       "span.linenos.special { color: #000000; background-color: #ffffc0; padding-left: 5px; padding-right: 5px; }\n",
       "body .hll { background-color: #ffffcc }\n",
       "body { background: #f8f8f8; }\n",
       "body .c { color: #408080; font-style: italic } /* Comment */\n",
       "body .err { border: 1px solid #FF0000 } /* Error */\n",
       "body .k { color: #008000; font-weight: bold } /* Keyword */\n",
       "body .o { color: #666666 } /* Operator */\n",
       "body .ch { color: #408080; font-style: italic } /* Comment.Hashbang */\n",
       "body .cm { color: #408080; font-style: italic } /* Comment.Multiline */\n",
       "body .cp { color: #BC7A00 } /* Comment.Preproc */\n",
       "body .cpf { color: #408080; font-style: italic } /* Comment.PreprocFile */\n",
       "body .c1 { color: #408080; font-style: italic } /* Comment.Single */\n",
       "body .cs { color: #408080; font-style: italic } /* Comment.Special */\n",
       "body .gd { color: #A00000 } /* Generic.Deleted */\n",
       "body .ge { font-style: italic } /* Generic.Emph */\n",
       "body .gr { color: #FF0000 } /* Generic.Error */\n",
       "body .gh { color: #000080; font-weight: bold } /* Generic.Heading */\n",
       "body .gi { color: #00A000 } /* Generic.Inserted */\n",
       "body .go { color: #888888 } /* Generic.Output */\n",
       "body .gp { color: #000080; font-weight: bold } /* Generic.Prompt */\n",
       "body .gs { font-weight: bold } /* Generic.Strong */\n",
       "body .gu { color: #800080; font-weight: bold } /* Generic.Subheading */\n",
       "body .gt { color: #0044DD } /* Generic.Traceback */\n",
       "body .kc { color: #008000; font-weight: bold } /* Keyword.Constant */\n",
       "body .kd { color: #008000; font-weight: bold } /* Keyword.Declaration */\n",
       "body .kn { color: #008000; font-weight: bold } /* Keyword.Namespace */\n",
       "body .kp { color: #008000 } /* Keyword.Pseudo */\n",
       "body .kr { color: #008000; font-weight: bold } /* Keyword.Reserved */\n",
       "body .kt { color: #B00040 } /* Keyword.Type */\n",
       "body .m { color: #666666 } /* Literal.Number */\n",
       "body .s { color: #BA2121 } /* Literal.String */\n",
       "body .na { color: #7D9029 } /* Name.Attribute */\n",
       "body .nb { color: #008000 } /* Name.Builtin */\n",
       "body .nc { color: #0000FF; font-weight: bold } /* Name.Class */\n",
       "body .no { color: #880000 } /* Name.Constant */\n",
       "body .nd { color: #AA22FF } /* Name.Decorator */\n",
       "body .ni { color: #999999; font-weight: bold } /* Name.Entity */\n",
       "body .ne { color: #D2413A; font-weight: bold } /* Name.Exception */\n",
       "body .nf { color: #0000FF } /* Name.Function */\n",
       "body .nl { color: #A0A000 } /* Name.Label */\n",
       "body .nn { color: #0000FF; font-weight: bold } /* Name.Namespace */\n",
       "body .nt { color: #008000; font-weight: bold } /* Name.Tag */\n",
       "body .nv { color: #19177C } /* Name.Variable */\n",
       "body .ow { color: #AA22FF; font-weight: bold } /* Operator.Word */\n",
       "body .w { color: #bbbbbb } /* Text.Whitespace */\n",
       "body .mb { color: #666666 } /* Literal.Number.Bin */\n",
       "body .mf { color: #666666 } /* Literal.Number.Float */\n",
       "body .mh { color: #666666 } /* Literal.Number.Hex */\n",
       "body .mi { color: #666666 } /* Literal.Number.Integer */\n",
       "body .mo { color: #666666 } /* Literal.Number.Oct */\n",
       "body .sa { color: #BA2121 } /* Literal.String.Affix */\n",
       "body .sb { color: #BA2121 } /* Literal.String.Backtick */\n",
       "body .sc { color: #BA2121 } /* Literal.String.Char */\n",
       "body .dl { color: #BA2121 } /* Literal.String.Delimiter */\n",
       "body .sd { color: #BA2121; font-style: italic } /* Literal.String.Doc */\n",
       "body .s2 { color: #BA2121 } /* Literal.String.Double */\n",
       "body .se { color: #BB6622; font-weight: bold } /* Literal.String.Escape */\n",
       "body .sh { color: #BA2121 } /* Literal.String.Heredoc */\n",
       "body .si { color: #BB6688; font-weight: bold } /* Literal.String.Interpol */\n",
       "body .sx { color: #008000 } /* Literal.String.Other */\n",
       "body .sr { color: #BB6688 } /* Literal.String.Regex */\n",
       "body .s1 { color: #BA2121 } /* Literal.String.Single */\n",
       "body .ss { color: #19177C } /* Literal.String.Symbol */\n",
       "body .bp { color: #008000 } /* Name.Builtin.Pseudo */\n",
       "body .fm { color: #0000FF } /* Name.Function.Magic */\n",
       "body .vc { color: #19177C } /* Name.Variable.Class */\n",
       "body .vg { color: #19177C } /* Name.Variable.Global */\n",
       "body .vi { color: #19177C } /* Name.Variable.Instance */\n",
       "body .vm { color: #19177C } /* Name.Variable.Magic */\n",
       "body .il { color: #666666 } /* Literal.Number.Integer.Long */\n",
       "\n",
       "  </style>\n",
       "</head>\n",
       "<body>\n",
       "<h2></h2>\n",
       "\n",
       "<div class=\"highlight\"><pre><span></span><span class=\"k\">def</span> <span class=\"nf\">tt_check_all</span><span class=\"p\">(</span><span class=\"n\">kb</span><span class=\"p\">,</span> <span class=\"n\">alpha</span><span class=\"p\">,</span> <span class=\"n\">symbols</span><span class=\"p\">,</span> <span class=\"n\">model</span><span class=\"p\">):</span>\n",
       "    <span class=\"sd\">&quot;&quot;&quot;Auxiliary routine to implement tt_entails.&quot;&quot;&quot;</span>\n",
       "    <span class=\"k\">if</span> <span class=\"ow\">not</span> <span class=\"n\">symbols</span><span class=\"p\">:</span>\n",
       "        <span class=\"k\">if</span> <span class=\"n\">pl_true</span><span class=\"p\">(</span><span class=\"n\">kb</span><span class=\"p\">,</span> <span class=\"n\">model</span><span class=\"p\">):</span>\n",
       "            <span class=\"n\">result</span> <span class=\"o\">=</span> <span class=\"n\">pl_true</span><span class=\"p\">(</span><span class=\"n\">alpha</span><span class=\"p\">,</span> <span class=\"n\">model</span><span class=\"p\">)</span>\n",
       "            <span class=\"k\">assert</span> <span class=\"n\">result</span> <span class=\"ow\">in</span> <span class=\"p\">(</span><span class=\"kc\">True</span><span class=\"p\">,</span> <span class=\"kc\">False</span><span class=\"p\">)</span>\n",
       "            <span class=\"k\">return</span> <span class=\"n\">result</span>\n",
       "        <span class=\"k\">else</span><span class=\"p\">:</span>\n",
       "            <span class=\"k\">return</span> <span class=\"kc\">True</span>\n",
       "    <span class=\"k\">else</span><span class=\"p\">:</span>\n",
       "        <span class=\"n\">P</span><span class=\"p\">,</span> <span class=\"n\">rest</span> <span class=\"o\">=</span> <span class=\"n\">symbols</span><span class=\"p\">[</span><span class=\"mi\">0</span><span class=\"p\">],</span> <span class=\"n\">symbols</span><span class=\"p\">[</span><span class=\"mi\">1</span><span class=\"p\">:]</span>\n",
       "        <span class=\"k\">return</span> <span class=\"p\">(</span><span class=\"n\">tt_check_all</span><span class=\"p\">(</span><span class=\"n\">kb</span><span class=\"p\">,</span> <span class=\"n\">alpha</span><span class=\"p\">,</span> <span class=\"n\">rest</span><span class=\"p\">,</span> <span class=\"n\">extend</span><span class=\"p\">(</span><span class=\"n\">model</span><span class=\"p\">,</span> <span class=\"n\">P</span><span class=\"p\">,</span> <span class=\"kc\">True</span><span class=\"p\">))</span> <span class=\"ow\">and</span>\n",
       "                <span class=\"n\">tt_check_all</span><span class=\"p\">(</span><span class=\"n\">kb</span><span class=\"p\">,</span> <span class=\"n\">alpha</span><span class=\"p\">,</span> <span class=\"n\">rest</span><span class=\"p\">,</span> <span class=\"n\">extend</span><span class=\"p\">(</span><span class=\"n\">model</span><span class=\"p\">,</span> <span class=\"n\">P</span><span class=\"p\">,</span> <span class=\"kc\">False</span><span class=\"p\">)))</span>\n",
       "</pre></div>\n",
       "</body>\n",
       "</html>\n"
      ],
      "text/plain": [
       "<IPython.core.display.HTML object>"
      ]
     },
     "metadata": {},
     "output_type": "display_data"
    }
   ],
   "source": [
    "psource(tt_check_all)"
   ]
  },
  {
   "cell_type": "markdown",
   "metadata": {},
   "source": [
    "Algorytm zasadniczo oblicza każdy wiersz tabeli prawdy $KB\\implies \\alpha$ i sprawdza, czy wszędzie jest to prawda.\n",
    "<br>\n",
    "Jeśli symbole są zdefiniowane, procedura rekurencyjnie konstruuje każdą kombinację wartości logicznych dla symboli, a następnie,\n",
    "sprawdza, czy `model` jest zgodny z `kb`.\n",
    "Podane modele odpowiadają wierszom w tabeli prawdy,\n",
    "które mają wartość „true” w kolumnie KB,\n",
    "i dla tych linii sprawdza, czy zapytanie ma wartość true\n",
    "<br>\n",
    "`wynik = pl_true(alfa, model)`.\n",
    "<br>\n",
    "<br>\n",
    "Krótko mówiąc, `tt_check_all` ocenia to wyrażenie logiczne dla każdego `modelu`\n",
    "<br>\n",
    "`pl_true(kb, model) => pl_true(alfa, model)`\n",
    "<br>\n",
    "co jest logicznie równoważne\n",
    "<br>\n",
    "`pl_true(kb, model) & ~pl_true(alpha, model)`\n",
    "<br>\n",
    "oznacza to, że baza wiedzy i zaprzeczenie zapytania są logicznie niespójne.\n",
    "<br>\n",
    "<br>\n",
    "`tt_entails()` po prostu wyodrębnia symbole z zapytania i wywołuje `tt_check_all()` z odpowiednimi parametrami."
   ]
  },
  {
   "cell_type": "code",
   "execution_count": 22,
   "metadata": {},
   "outputs": [
    {
     "data": {
      "text/html": [
       "<!DOCTYPE html PUBLIC \"-//W3C//DTD HTML 4.01//EN\"\n",
       "   \"http://www.w3.org/TR/html4/strict.dtd\">\n",
       "<!--\n",
       "generated by Pygments <https://pygments.org/>\n",
       "Copyright 2006-2021 by the Pygments team.\n",
       "Licensed under the BSD license, see LICENSE for details.\n",
       "-->\n",
       "<html>\n",
       "<head>\n",
       "  <title></title>\n",
       "  <meta http-equiv=\"content-type\" content=\"text/html; charset=None\">\n",
       "  <style type=\"text/css\">\n",
       "/*\n",
       "generated by Pygments <https://pygments.org/>\n",
       "Copyright 2006-2021 by the Pygments team.\n",
       "Licensed under the BSD license, see LICENSE for details.\n",
       "*/\n",
       "pre { line-height: 125%; }\n",
       "td.linenos .normal { color: inherit; background-color: transparent; padding-left: 5px; padding-right: 5px; }\n",
       "span.linenos { color: inherit; background-color: transparent; padding-left: 5px; padding-right: 5px; }\n",
       "td.linenos .special { color: #000000; background-color: #ffffc0; padding-left: 5px; padding-right: 5px; }\n",
       "span.linenos.special { color: #000000; background-color: #ffffc0; padding-left: 5px; padding-right: 5px; }\n",
       "body .hll { background-color: #ffffcc }\n",
       "body { background: #f8f8f8; }\n",
       "body .c { color: #408080; font-style: italic } /* Comment */\n",
       "body .err { border: 1px solid #FF0000 } /* Error */\n",
       "body .k { color: #008000; font-weight: bold } /* Keyword */\n",
       "body .o { color: #666666 } /* Operator */\n",
       "body .ch { color: #408080; font-style: italic } /* Comment.Hashbang */\n",
       "body .cm { color: #408080; font-style: italic } /* Comment.Multiline */\n",
       "body .cp { color: #BC7A00 } /* Comment.Preproc */\n",
       "body .cpf { color: #408080; font-style: italic } /* Comment.PreprocFile */\n",
       "body .c1 { color: #408080; font-style: italic } /* Comment.Single */\n",
       "body .cs { color: #408080; font-style: italic } /* Comment.Special */\n",
       "body .gd { color: #A00000 } /* Generic.Deleted */\n",
       "body .ge { font-style: italic } /* Generic.Emph */\n",
       "body .gr { color: #FF0000 } /* Generic.Error */\n",
       "body .gh { color: #000080; font-weight: bold } /* Generic.Heading */\n",
       "body .gi { color: #00A000 } /* Generic.Inserted */\n",
       "body .go { color: #888888 } /* Generic.Output */\n",
       "body .gp { color: #000080; font-weight: bold } /* Generic.Prompt */\n",
       "body .gs { font-weight: bold } /* Generic.Strong */\n",
       "body .gu { color: #800080; font-weight: bold } /* Generic.Subheading */\n",
       "body .gt { color: #0044DD } /* Generic.Traceback */\n",
       "body .kc { color: #008000; font-weight: bold } /* Keyword.Constant */\n",
       "body .kd { color: #008000; font-weight: bold } /* Keyword.Declaration */\n",
       "body .kn { color: #008000; font-weight: bold } /* Keyword.Namespace */\n",
       "body .kp { color: #008000 } /* Keyword.Pseudo */\n",
       "body .kr { color: #008000; font-weight: bold } /* Keyword.Reserved */\n",
       "body .kt { color: #B00040 } /* Keyword.Type */\n",
       "body .m { color: #666666 } /* Literal.Number */\n",
       "body .s { color: #BA2121 } /* Literal.String */\n",
       "body .na { color: #7D9029 } /* Name.Attribute */\n",
       "body .nb { color: #008000 } /* Name.Builtin */\n",
       "body .nc { color: #0000FF; font-weight: bold } /* Name.Class */\n",
       "body .no { color: #880000 } /* Name.Constant */\n",
       "body .nd { color: #AA22FF } /* Name.Decorator */\n",
       "body .ni { color: #999999; font-weight: bold } /* Name.Entity */\n",
       "body .ne { color: #D2413A; font-weight: bold } /* Name.Exception */\n",
       "body .nf { color: #0000FF } /* Name.Function */\n",
       "body .nl { color: #A0A000 } /* Name.Label */\n",
       "body .nn { color: #0000FF; font-weight: bold } /* Name.Namespace */\n",
       "body .nt { color: #008000; font-weight: bold } /* Name.Tag */\n",
       "body .nv { color: #19177C } /* Name.Variable */\n",
       "body .ow { color: #AA22FF; font-weight: bold } /* Operator.Word */\n",
       "body .w { color: #bbbbbb } /* Text.Whitespace */\n",
       "body .mb { color: #666666 } /* Literal.Number.Bin */\n",
       "body .mf { color: #666666 } /* Literal.Number.Float */\n",
       "body .mh { color: #666666 } /* Literal.Number.Hex */\n",
       "body .mi { color: #666666 } /* Literal.Number.Integer */\n",
       "body .mo { color: #666666 } /* Literal.Number.Oct */\n",
       "body .sa { color: #BA2121 } /* Literal.String.Affix */\n",
       "body .sb { color: #BA2121 } /* Literal.String.Backtick */\n",
       "body .sc { color: #BA2121 } /* Literal.String.Char */\n",
       "body .dl { color: #BA2121 } /* Literal.String.Delimiter */\n",
       "body .sd { color: #BA2121; font-style: italic } /* Literal.String.Doc */\n",
       "body .s2 { color: #BA2121 } /* Literal.String.Double */\n",
       "body .se { color: #BB6622; font-weight: bold } /* Literal.String.Escape */\n",
       "body .sh { color: #BA2121 } /* Literal.String.Heredoc */\n",
       "body .si { color: #BB6688; font-weight: bold } /* Literal.String.Interpol */\n",
       "body .sx { color: #008000 } /* Literal.String.Other */\n",
       "body .sr { color: #BB6688 } /* Literal.String.Regex */\n",
       "body .s1 { color: #BA2121 } /* Literal.String.Single */\n",
       "body .ss { color: #19177C } /* Literal.String.Symbol */\n",
       "body .bp { color: #008000 } /* Name.Builtin.Pseudo */\n",
       "body .fm { color: #0000FF } /* Name.Function.Magic */\n",
       "body .vc { color: #19177C } /* Name.Variable.Class */\n",
       "body .vg { color: #19177C } /* Name.Variable.Global */\n",
       "body .vi { color: #19177C } /* Name.Variable.Instance */\n",
       "body .vm { color: #19177C } /* Name.Variable.Magic */\n",
       "body .il { color: #666666 } /* Literal.Number.Integer.Long */\n",
       "\n",
       "  </style>\n",
       "</head>\n",
       "<body>\n",
       "<h2></h2>\n",
       "\n",
       "<div class=\"highlight\"><pre><span></span><span class=\"k\">def</span> <span class=\"nf\">tt_entails</span><span class=\"p\">(</span><span class=\"n\">kb</span><span class=\"p\">,</span> <span class=\"n\">alpha</span><span class=\"p\">):</span>\n",
       "    <span class=\"sd\">&quot;&quot;&quot;</span>\n",
       "<span class=\"sd\">    [Figure 7.10]</span>\n",
       "<span class=\"sd\">    Does kb entail the sentence alpha? Use truth tables. For propositional</span>\n",
       "<span class=\"sd\">    kb&#39;s and sentences. Note that the &#39;kb&#39; should be an Expr which is a</span>\n",
       "<span class=\"sd\">    conjunction of clauses.</span>\n",
       "<span class=\"sd\">    &gt;&gt;&gt; tt_entails(expr(&#39;P &amp; Q&#39;), expr(&#39;Q&#39;))</span>\n",
       "<span class=\"sd\">    True</span>\n",
       "<span class=\"sd\">    &quot;&quot;&quot;</span>\n",
       "    <span class=\"k\">assert</span> <span class=\"ow\">not</span> <span class=\"n\">variables</span><span class=\"p\">(</span><span class=\"n\">alpha</span><span class=\"p\">)</span>\n",
       "    <span class=\"n\">symbols</span> <span class=\"o\">=</span> <span class=\"nb\">list</span><span class=\"p\">(</span><span class=\"n\">prop_symbols</span><span class=\"p\">(</span><span class=\"n\">kb</span> <span class=\"o\">&amp;</span> <span class=\"n\">alpha</span><span class=\"p\">))</span>\n",
       "    <span class=\"k\">return</span> <span class=\"n\">tt_check_all</span><span class=\"p\">(</span><span class=\"n\">kb</span><span class=\"p\">,</span> <span class=\"n\">alpha</span><span class=\"p\">,</span> <span class=\"n\">symbols</span><span class=\"p\">,</span> <span class=\"p\">{})</span>\n",
       "</pre></div>\n",
       "</body>\n",
       "</html>\n"
      ],
      "text/plain": [
       "<IPython.core.display.HTML object>"
      ]
     },
     "metadata": {},
     "output_type": "display_data"
    }
   ],
   "source": [
    "psource(tt_entails)"
   ]
  },
  {
   "cell_type": "markdown",
   "metadata": {},
   "source": [
    "Należy pamiętać, że dla dwóch symboli P i Q, P => Q jest fałszem tylko wtedy, gdy P jest „Prawdą”, a Q jest „Fałszem”.\n",
    "Przykładowe użycie `tt_entails()`:"
   ]
  },
  {
   "cell_type": "code",
   "execution_count": 23,
   "metadata": {},
   "outputs": [
    {
     "data": {
      "text/plain": [
       "True"
      ]
     },
     "execution_count": 23,
     "metadata": {},
     "output_type": "execute_result"
    }
   ],
   "source": [
    "tt_entails(P & Q, Q)"
   ]
  },
  {
   "cell_type": "markdown",
   "metadata": {},
   "source": [
    "P & Q jest prawdziwe tylko wtedy, gdy zarówno P, jak i Q są prawdziwe. Stąd (P i Q) => Q jest prawdziwe"
   ]
  },
  {
   "cell_type": "code",
   "execution_count": 24,
   "metadata": {},
   "outputs": [
    {
     "data": {
      "text/plain": [
       "False"
      ]
     },
     "execution_count": 24,
     "metadata": {},
     "output_type": "execute_result"
    }
   ],
   "source": [
    "tt_entails(P | Q, Q)"
   ]
  },
  {
   "cell_type": "code",
   "execution_count": 25,
   "metadata": {},
   "outputs": [
    {
     "data": {
      "text/plain": [
       "False"
      ]
     },
     "execution_count": 25,
     "metadata": {},
     "output_type": "execute_result"
    }
   ],
   "source": [
    "tt_entails(P | Q, P)"
   ]
  },
  {
   "cell_type": "markdown",
   "metadata": {},
   "source": [
    "Jeśli wiemy, że P | Q jest prawdziwe, nie możemy wywnioskować wartości logicznych P i Q.\n",
    "Stąd (P | Q) => Q jest fałszywe, podobnie jak (P | Q) => P."
   ]
  },
  {
   "cell_type": "code",
   "execution_count": 26,
   "metadata": {},
   "outputs": [
    {
     "data": {
      "text/plain": [
       "True"
      ]
     },
     "execution_count": 26,
     "metadata": {},
     "output_type": "execute_result"
    }
   ],
   "source": [
    "(A, B, C, D, E, F, G) = symbols('A, B, C, D, E, F, G')\n",
    "tt_entails(A & (B | C) & D & E & ~(F | G), A & D & E & ~F & ~G)"
   ]
  },
  {
   "cell_type": "markdown",
   "metadata": {},
   "source": [
    "Widzimy, że aby KB było prawdziwe, A, D, E muszą być prawdziwe, a F i G muszą być fałszywe.\n",
    "Nic nie można powiedzieć o B lub C."
   ]
  },
  {
   "cell_type": "markdown",
   "metadata": {},
   "source": [
    "Wracając do naszego problemu, zauważ, że `tt_entails()` przyjmuje jako dane wejściowe `Expr`, które jest koniunkcją klauzul, zamiast samego `KB`.\n",
    "Możesz użyć metody `ask_if_true()` `PropKB`, która wykonuje wszystkie wymagane konwersje.\n",
    "Sprawdźmy, co `wumpus_kb` mówi nam o $P_{1, 1}$."
   ]
  },
  {
   "cell_type": "code",
   "execution_count": 27,
   "metadata": {},
   "outputs": [
    {
     "data": {
      "text/plain": [
       "(True, False)"
      ]
     },
     "execution_count": 27,
     "metadata": {},
     "output_type": "execute_result"
    }
   ],
   "source": [
    "wumpus_kb.ask_if_true(~P11), wumpus_kb.ask_if_true(P11)"
   ]
  },
  {
   "cell_type": "markdown",
   "metadata": {},
   "source": [
    "Widzimy, że we wszystkich modelach, w których baza wiedzy ma wartość `Prawda`, $P_{1,1}$ jest `Fałszem`. To ma sens, że `ask_if_true()` zwraca `True` dla $\\alpha = \\neg P_{1, 1}$ i `False` dla $\\alpha = P_{1, 1}$. To nasuwa pytanie, co jeśli $\\alpha$ jest `Prawdą` tylko w części wszystkich modeli. Czy zwracamy „Prawda” czy „Fałsz”? Nie wyklucza to możliwości, że $\\alpha$ będzie `Prawdą`, ale nie wynika to z `KB`, więc w takich przypadkach zwracamy `Fałsz`. Widzimy, że tak jest w przypadku $P_{2,2}$ i $P_{3,1}$."
   ]
  },
  {
   "cell_type": "code",
   "execution_count": 28,
   "metadata": {},
   "outputs": [
    {
     "data": {
      "text/plain": [
       "(False, False)"
      ]
     },
     "execution_count": 28,
     "metadata": {},
     "output_type": "execute_result"
    }
   ],
   "source": [
    "wumpus_kb.ask_if_true(~P22), wumpus_kb.ask_if_true(P22)"
   ]
  }
 ],
 "metadata": {
  "kernelspec": {
   "display_name": "Python 3",
   "language": "python",
   "name": "python3"
  },
  "language_info": {
   "codemirror_mode": {
    "name": "ipython",
    "version": 3
   },
   "file_extension": ".py",
   "mimetype": "text/x-python",
   "name": "python",
   "nbconvert_exporter": "python",
   "pygments_lexer": "ipython3",
   "version": "3.8.8"
  }
 },
 "nbformat": 4,
 "nbformat_minor": 4
}
